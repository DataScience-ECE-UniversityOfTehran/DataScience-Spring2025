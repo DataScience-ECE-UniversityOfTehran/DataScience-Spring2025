{
 "cells": [
  {
   "cell_type": "code",
   "execution_count": null,
   "metadata": {},
   "outputs": [],
   "source": [
    "from selenium import webdriver\n",
    "from selenium.webdriver.chrome.service import Service\n",
    "from selenium.webdriver.common.keys import Keys   \n",
    "from time import sleep\n",
    "from selenium.webdriver.support.ui import WebDriverWait\n",
    "from selenium.webdriver.support import expected_conditions as EC\n",
    "import pandas as pd\n",
    "import os\n",
    "import time\n",
    "import requests\n",
    "from selenium.webdriver.common.by import By\n",
    "driver_path = \"CHROME_DRIVER_PATH\"\n",
    "\n",
    "service = Service(driver_path)\n",
    "driver = webdriver.Chrome(service=service)\n",
    "\n",
    "url = \"https://www.digikala.com/\"\n",
    "driver.get(url)\n",
    "wait = WebDriverWait(driver, 20) "
   ]
  },
  {
   "cell_type": "code",
   "execution_count": 3,
   "metadata": {},
   "outputs": [],
   "source": [
    "search_button = wait.until(EC.element_to_be_clickable(\n",
    "    (By.XPATH, \"//div[contains(@class, 'lg:text-body-2') and contains(text(), 'جستجو')]\")\n",
    "))\n",
    "search_button.click()  "
   ]
  },
  {
   "cell_type": "code",
   "execution_count": 4,
   "metadata": {},
   "outputs": [],
   "source": [
    "search_box = wait.until(EC.presence_of_element_located(\n",
    "    (By.XPATH, \"//input[@type='text' and @placeholder='جستجو']\") \n",
    "))"
   ]
  },
  {
   "cell_type": "code",
   "execution_count": 5,
   "metadata": {},
   "outputs": [],
   "source": [
    "search_box.send_keys(\"کلاه آفتابی\") \n",
    "search_box.send_keys(Keys.ENTER) "
   ]
  },
  {
   "cell_type": "code",
   "execution_count": 6,
   "metadata": {},
   "outputs": [],
   "source": [
    "clothes = []\n",
    "image_urls = set()"
   ]
  },
  {
   "cell_type": "code",
   "execution_count": 7,
   "metadata": {},
   "outputs": [],
   "source": [
    "image_count_limit = 50"
   ]
  },
  {
   "cell_type": "code",
   "execution_count": null,
   "metadata": {},
   "outputs": [],
   "source": [
    "\n",
    "folder_path = \"IMAGES_FOLDER_PATH\"\n",
    "os.makedirs(folder_path, exist_ok=True)\n",
    "\n",
    "image_count = 0\n",
    "while image_count < image_count_limit:\n",
    "    driver.execute_script(\"window.scrollBy(0, 500);\")\n",
    "    time.sleep(1)\n",
    "\n",
    "    products = driver.find_elements(By.XPATH, \"//div[@class='flex grow relative flex-col']\")\n",
    "\n",
    "    for product in products:\n",
    "        if(image_count_limit <= image_count):\n",
    "            break\n",
    "        try:\n",
    "            image_element = product.find_element(By.XPATH, \".//img[contains(@class, 'w-full') and @width='240' and @height='240']\")\n",
    "            image_url = image_element.get_attribute(\"src\")\n",
    "            if(image_url in image_urls or (not image_url)):\n",
    "                continue\n",
    "            image_urls.add(image_url)\n",
    "            price = product.find_element(By.XPATH, \".//span[@data-testid='price-final']\").text\n",
    "            rating = product.find_element(By.XPATH, \".//p[@class='text-body2-strong text-neutral-700']\").text\n",
    "            description = image_element.get_attribute(\"alt\")\n",
    "        except:\n",
    "            continue\n",
    "\n",
    "        response = requests.get(image_url)\n",
    "        if response.status_code == 200:\n",
    "            image_name = f\"{folder_path}/image_{image_count + 1}.jpg\"\n",
    "            with open(image_name, 'wb') as file:\n",
    "                file.write(response.content)\n",
    "            print(f\"Downloaded Image {image_count + 1}: {image_name} | Price: {price} | Rating: {rating} | Description : {description}\")\n",
    "            image_count += 1\n",
    "            clothes.append([price, rating, description, \"Shoes\", image_name])\n",
    "        else:\n",
    "            print(f\"Failed to download Image {image_count + 1}: {image_url}\")\n",
    "\n",
    "\n",
    "driver.quit()"
   ]
  },
  {
   "cell_type": "code",
   "execution_count": null,
   "metadata": {},
   "outputs": [],
   "source": [
    "clothes = pd.DataFrame(clothes, columns=['price', 'rating', 'description', 'category', 'image_path'])"
   ]
  },
  {
   "cell_type": "code",
   "execution_count": null,
   "metadata": {},
   "outputs": [],
   "source": [
    "clothes"
   ]
  },
  {
   "cell_type": "code",
   "execution_count": null,
   "metadata": {},
   "outputs": [],
   "source": [
    "clothes.to_csv(\"DATAFRAME_CSV_PATH\")"
   ]
  }
 ],
 "metadata": {
  "kernelspec": {
   "display_name": "Python 3",
   "language": "python",
   "name": "python3"
  },
  "language_info": {
   "codemirror_mode": {
    "name": "ipython",
    "version": 3
   },
   "file_extension": ".py",
   "mimetype": "text/x-python",
   "name": "python",
   "nbconvert_exporter": "python",
   "pygments_lexer": "ipython3",
   "version": "3.12.9"
  }
 },
 "nbformat": 4,
 "nbformat_minor": 2
}
