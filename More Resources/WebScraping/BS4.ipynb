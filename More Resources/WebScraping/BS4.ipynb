{
 "cells": [
  {
   "cell_type": "code",
   "execution_count": null,
   "metadata": {},
   "outputs": [],
   "source": [
    "import requests\n",
    "from bs4 import BeautifulSoup\n",
    "\n",
    "url = \"https://www.themuse.com/advice/team-building-activities-games-for-work-office\"\n",
    "\n",
    "response = requests.get(url, verify=False)\n",
    "\n",
    "if response.status_code == 200:\n",
    "    data = response.text\n",
    "    soup = BeautifulSoup(data, \"html.parser\")\n",
    "\n",
    "    title = soup.find(\"h1\")\n",
    "    if title:\n",
    "        print(f\"Title: {title.text.strip()}\\n\")\n",
    "    else:\n",
    "        print(\"Title not found.\\n\")\n",
    "\n",
    "    headings = soup.find_all(\"h3\")\n",
    "\n",
    "    for heading in headings:\n",
    "        print(f\"Heading: {heading.text.strip()}\")\n",
    "else:\n",
    "    print(f\"Failed to retrieve the webpage. Status code: {response.status_code}\")"
   ]
  }
 ],
 "metadata": {
  "kernelspec": {
   "display_name": "Python 3",
   "language": "python",
   "name": "python3"
  },
  "language_info": {
   "codemirror_mode": {
    "name": "ipython",
    "version": 3
   },
   "file_extension": ".py",
   "mimetype": "text/x-python",
   "name": "python",
   "nbconvert_exporter": "python",
   "pygments_lexer": "ipython3",
   "version": "3.12.9"
  }
 },
 "nbformat": 4,
 "nbformat_minor": 2
}
