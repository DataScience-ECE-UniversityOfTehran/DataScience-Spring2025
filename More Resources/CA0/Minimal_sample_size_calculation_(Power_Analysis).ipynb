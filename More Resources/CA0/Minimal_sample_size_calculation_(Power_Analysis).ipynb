{
  "nbformat": 4,
  "nbformat_minor": 0,
  "metadata": {
    "colab": {
      "provenance": []
    },
    "kernelspec": {
      "name": "python3",
      "display_name": "Python 3"
    }
  },
  "cells": [
    {
      "cell_type": "markdown",
      "metadata": {
        "id": "mB91-CWsxvpT"
      },
      "source": [
        "#**Estimating the min sample size needed using Power analysis**\n",
        "Last edited: 2020-06-24 |[ Limor Goldhaber ](https://www.linkedin.com/in/limorgoldhaber/))"
      ]
    },
    {
      "cell_type": "markdown",
      "metadata": {
        "id": "ADT6nzn3xpmZ"
      },
      "source": [
        "##**What is Statistical Power?**\n",
        "In Hypothesis testing, statistical Power is the probability finding an effect if there is an effect to be found (if an effect actually exists). It can also be used as a tool to estimate the number of observations or sample size required in order to detect an effect in an experiment.\n"
      ]
    },
    {
      "cell_type": "markdown",
      "metadata": {
        "id": "bVCKEyxOxtSq"
      },
      "source": [
        "##**What is a Power Analysis?**\n",
        "**A Power Analysis** can be used to estimate the minimum sample size required for an experiment, given the desired significance level, effect size and statistical power.\n",
        "\n",
        "We'll usually define:\n",
        "\n",
        "*   Significance level (α) = 0.05 (95% confidence)\n",
        "*   Statistical Power = 0.8 (80%)\n",
        "*   Effect size (based on Choen's d measure) = 0.8 for large effect size, medium effect size = 0.5, small effect size = 0.2 (read more on calculating effect size [here](https://machinelearningmastery.com/effect-size-measures-in-python/).\n",
        "\n",
        "<br>\n",
        "The test is often interpreted using a **p-value**, which is the probability of observing the result given that the null hypothesis is true.\n",
        "\n",
        "In interpreting the p-value of a significance test, you must specify a significance level. A result of a significance test is claimed to be “statistically significant” if the p-value is less than the significance level. This means that the null hypothesis (that there is no difference) is rejected.\n",
        "\n",
        "* **p <= alpha**: reject H0, different distribution\n",
        "* **p > alpha**: fail to reject H0, same distribution\n",
        "\n"
      ]
    },
    {
      "cell_type": "markdown",
      "metadata": {
        "id": "aYnuPko9x6aO"
      },
      "source": [
        "## **Calculating a power analysis**"
      ]
    },
    {
      "cell_type": "markdown",
      "metadata": {
        "id": "CPq-4s-Rx-ss"
      },
      "source": [
        "###**Terminology**"
      ]
    },
    {
      "cell_type": "markdown",
      "metadata": {
        "id": "S7ncnv07yBjq"
      },
      "source": [
        "#####**Independent sample test (or two-sample t-test)**"
      ]
    },
    {
      "cell_type": "markdown",
      "metadata": {
        "id": "_VRPgWWayFie"
      },
      "source": [
        "An inferential statistical test that determines whether there is a statistically significant difference between the means in two *unrelated* groups.\n",
        "<br>The null hypothesis for the independent t-test is that the population means from the two unrelated groups are equal:\n",
        "\n",
        "\n",
        "> H0: u1 = u2\n",
        "\n",
        "\n",
        "<br> The alternative hypothesis in such case would be if the population means are not equal:\n",
        "> HA: u1 ≠ u2\n",
        "\n",
        "<br>**What are unrelated groups?**\n",
        "Unrelated groups are groups in which the users in each group are different. Often we are investigating differences in individuals, which means that when comparing two groups, an individual in one group cannot also be a member of the other group and vice versa.\n",
        "\n"
      ]
    },
    {
      "cell_type": "markdown",
      "metadata": {
        "id": "td5EjOcfyMC5"
      },
      "source": [
        "#####**Paired sample test**\n",
        "\n",
        "A paired t-test is used to compare two population means where you have two samples in which observations in one sample can be paired with observations in the other sample. Examples of where this might occur are:\n",
        "\n",
        "* Before-and-after observations on the same subjects.\n",
        "* A comparison of two different methods of measurement or two different treatments where the measurements/treatments are applied to the same subjects.\n",
        "\n",
        "The null hypothesis for a paired sample t-test is that the mean difference between two sets of observations (groups) is zero.\n"
      ]
    },
    {
      "cell_type": "markdown",
      "metadata": {
        "id": "Erp-IfqoyW3l"
      },
      "source": [
        "### **Plotting the min sample size needed for detecting different effect sizes**"
      ]
    },
    {
      "cell_type": "code",
      "metadata": {
        "id": "h9bKrMVeyZlA"
      },
      "source": [
        "# based on the type of test use the following functions:\n",
        "# if independent sample t-test: TTestIndPower()\n",
        "# if paired sample t-test: TTestPower()"
      ],
      "execution_count": null,
      "outputs": []
    },
    {
      "cell_type": "code",
      "metadata": {
        "id": "Nj7fb_GWybxS",
        "colab": {
          "base_uri": "https://localhost:8080/",
          "height": 295
        },
        "outputId": "a1755f46-a43a-4589-fec3-13849727473e"
      },
      "source": [
        "# calculate power curves for varying sample and effect size\n",
        "from numpy import array\n",
        "from matplotlib import pyplot\n",
        "from statsmodels.stats.power import TTestIndPower\n",
        "\n",
        "# parameters for power analysis\n",
        "effect_sizes = array([0.01,0.2, 0.5,0.8,1.20,2])                  # define the range of desired effect size or use full range\n",
        "sample_sizes = array(range(5,1000))                               # define the sample size range you wish to explore\n",
        "\n",
        "# calculate power curves from multiple power analyses\n",
        "analysis = TTestIndPower()                                        # change to TTestPower() in case of a paired sample t-test\n",
        "analysis.plot_power(dep_var='nobs', nobs=sample_sizes, effect_size=effect_sizes)\n",
        "pyplot.axhline(y=0.8, color='r', linestyle='dashed', linewidth=1) # adds horizontal line at power = 0.8\n",
        "pyplot.show()\n"
      ],
      "execution_count": null,
      "outputs": [
        {
          "output_type": "display_data",
          "data": {
            "image/png": "[encoded data removed]",
            "text/plain": [
              "<Figure size 432x288 with 1 Axes>"
            ]
          },
          "metadata": {
            "tags": [],
            "needs_background": "light"
          }
        }
      ]
    },
    {
      "cell_type": "markdown",
      "metadata": {
        "id": "gRFC2Aq-ye03"
      },
      "source": [
        "###**Min Sample size caluclation given an effect size, power and significance level**"
      ]
    },
    {
      "cell_type": "code",
      "metadata": {
        "id": "kal2Og1Qyh89",
        "colab": {
          "base_uri": "https://localhost:8080/",
          "height": 34
        },
        "outputId": "03793f02-a4ba-4b2b-8b15-cd7748049609"
      },
      "source": [
        "# estimate sample size via power analysis\n",
        "from statsmodels.stats.power import TTestIndPower\n",
        "\n",
        "# parameters for power analysis (change as needed)\n",
        "effect = 0.05\n",
        "alpha = 0.05\n",
        "power = 0.8\n",
        "\n",
        "# perform power analysis\n",
        "analysis = TTestIndPower()  # change to TTestPower() in case of a paired sample t-test\n",
        "result = analysis.solve_power(effect, power=power, nobs1=None, ratio=1.0, alpha=alpha)\n",
        "\n",
        "    # nobs1 = sample size, number of observations. This is what we're looking to find\n",
        "    # ratio = If both samples are expected to have the same number of observations, then the ratio is 1.0.\n",
        "    #         If, for example, the second sample is expected to have half as many observations, then the ratio would be 0.5\n",
        "\n",
        "print('Sample Size: %.0f' % result)"
      ],
      "execution_count": null,
      "outputs": [
        {
          "output_type": "stream",
          "text": [
            "Sample Size: 6280\n"
          ],
          "name": "stdout"
        }
      ]
    }
  ]
}