{
 "cells": [
  {
   "cell_type": "markdown",
   "metadata": {},
   "source": [
    "# 5 - Exception Coding"
   ]
  },
  {
   "cell_type": "markdown",
   "metadata": {},
   "source": [
    "<a id='top'></a>"
   ]
  },
  {
   "cell_type": "markdown",
   "metadata": {},
   "source": [
    "- [1 Exception Coding](#6.1-exception-coding)"
   ]
  },
  {
   "cell_type": "markdown",
   "metadata": {},
   "source": [
    "## 1 Exception Coding <a id=\"6.1-exception-coding\"/>"
   ]
  },
  {
   "cell_type": "markdown",
   "metadata": {},
   "source": [
    "Most Python codes contain errors when initially developed. For example, in the second cell below, in the `print` function we used the name `Var2` instead of the name of the defined variable `var2`. When we tried to run the cell, we got a `NameError`, with the further description that `name 'Var2' is not defined`. This message is specific enough for us to realize that we used a name in the print function that is different than the name we defined."
   ]
  },
  {
   "cell_type": "code",
   "execution_count": 1,
   "metadata": {
    "tags": []
   },
   "outputs": [
    {
     "name": "stdout",
     "output_type": "stream",
     "text": [
      "5\n"
     ]
    }
   ],
   "source": [
    "var1 = 5\n",
    "print(var1)"
   ]
  },
  {
   "cell_type": "code",
   "execution_count": 2,
   "metadata": {
    "tags": []
   },
   "outputs": [
    {
     "ename": "NameError",
     "evalue": "name 'Var2' is not defined",
     "output_type": "error",
     "traceback": [
      "\u001b[1;31m---------------------------------------------------------------------------\u001b[0m",
      "\u001b[1;31mNameError\u001b[0m                                 Traceback (most recent call last)",
      "Cell \u001b[1;32mIn[2], line 2\u001b[0m\n\u001b[0;32m      1\u001b[0m var2 \u001b[38;5;241m=\u001b[39m \u001b[38;5;241m6\u001b[39m\n\u001b[1;32m----> 2\u001b[0m \u001b[38;5;28mprint\u001b[39m(\u001b[43mVar2\u001b[49m)\n",
      "\u001b[1;31mNameError\u001b[0m: name 'Var2' is not defined"
     ]
    }
   ],
   "source": [
    "var2 = 6\n",
    "print(Var2)"
   ]
  },
  {
   "cell_type": "markdown",
   "metadata": {},
   "source": [
    "Errors detected during code execution are called **exceptions**. In this example, `NameError` is an exception. When an exception occurs, the Python interpreter terminates the program, and an error is displayed. \n",
    "\n",
    "Errors in Python are displayed in a specific form that provides: the traceback, the type of the exception, and the error message. **Traceback** is the sequence of function calls that led to the error. In the above example, the arrow indicates that the exception occurred in line 2 of the cell. This example is extremely simple, and in actual programs the traceback will list all modules and functions which led to the exception. Most often, you can just pay attention to the last level in the traceback, which is the actual place where the error occurred."
   ]
  },
  {
   "cell_type": "markdown",
   "metadata": {},
   "source": [
    "### The `try/except/else` Statement"
   ]
  },
  {
   "cell_type": "markdown",
   "metadata": {},
   "source": [
    "To handle exceptions in our programs, we can use `try` and `except`. This is also known as **catching the exception**. In the following cell, the code that can cause an exception to occur is indented under the `try` header, and the `NameError` is listed after `except`. If the exception occurs, the block indented under `except` is executed. Notice that this time the cell ran despite the error in our code, and we only printed a statement."
   ]
  },
  {
   "cell_type": "code",
   "execution_count": 3,
   "metadata": {
    "tags": []
   },
   "outputs": [
    {
     "name": "stdout",
     "output_type": "stream",
     "text": [
      "Oops, something went wrong!\n"
     ]
    }
   ],
   "source": [
    "try:\n",
    "    var2 = 6\n",
    "    print(Var2)\n",
    "except NameError:\n",
    "    print('Oops, something went wrong!')"
   ]
  },
  {
   "cell_type": "markdown",
   "metadata": {},
   "source": [
    "If the `try` part succeeds (i.e., there are no errors in the block of indented statements under `try`), then the `except` part is not executed."
   ]
  },
  {
   "cell_type": "code",
   "execution_count": 4,
   "metadata": {
    "tags": []
   },
   "outputs": [
    {
     "name": "stdout",
     "output_type": "stream",
     "text": [
      "6\n"
     ]
    }
   ],
   "source": [
    "try:\n",
    "    var2 = 6\n",
    "    print(var2)\n",
    "except NameError:\n",
    "    print('Oops, something went wrong!')"
   ]
  },
  {
   "cell_type": "markdown",
   "metadata": {},
   "source": [
    "Similarly, if we try adding an integer number and a string, this will result in a `TypeError`."
   ]
  },
  {
   "cell_type": "code",
   "execution_count": 5,
   "metadata": {
    "tags": []
   },
   "outputs": [
    {
     "ename": "TypeError",
     "evalue": "unsupported operand type(s) for +: 'int' and 'str'",
     "output_type": "error",
     "traceback": [
      "\u001b[1;31m---------------------------------------------------------------------------\u001b[0m",
      "\u001b[1;31mTypeError\u001b[0m                                 Traceback (most recent call last)",
      "Cell \u001b[1;32mIn[5], line 1\u001b[0m\n\u001b[1;32m----> 1\u001b[0m \u001b[38;5;241;43m123\u001b[39;49m\u001b[43m \u001b[49m\u001b[38;5;241;43m+\u001b[39;49m\u001b[43m \u001b[49m\u001b[38;5;124;43m'\u001b[39;49m\u001b[38;5;124;43mabc\u001b[39;49m\u001b[38;5;124;43m'\u001b[39;49m\n",
      "\u001b[1;31mTypeError\u001b[0m: unsupported operand type(s) for +: 'int' and 'str'"
     ]
    }
   ],
   "source": [
    "123 + 'abc'"
   ]
  },
  {
   "cell_type": "markdown",
   "metadata": {},
   "source": [
    "We can again use `try` and `except` to catch this exception, only this time we use `TypeError` instead of `NameError` after the `except` keyword."
   ]
  },
  {
   "cell_type": "code",
   "execution_count": 6,
   "metadata": {
    "tags": []
   },
   "outputs": [
    {
     "name": "stdout",
     "output_type": "stream",
     "text": [
      "Oops, something went wrong!\n"
     ]
    }
   ],
   "source": [
    "try:\n",
    "    123 + 'abc'\n",
    "except TypeError:\n",
    "     print('Oops, something went wrong!')"
   ]
  },
  {
   "cell_type": "markdown",
   "metadata": {},
   "source": [
    "What if we used the `NameError` in the `except` statement instead of `TypeError`? The result is shown below. The exception was not caught this time, because when Python executes the `try` block, it tries to match the exception type with those listed in the `except` clause. This means that we always need to use the correct exception type in order to be caught. "
   ]
  },
  {
   "cell_type": "code",
   "execution_count": 7,
   "metadata": {
    "tags": []
   },
   "outputs": [
    {
     "ename": "TypeError",
     "evalue": "unsupported operand type(s) for +: 'int' and 'str'",
     "output_type": "error",
     "traceback": [
      "\u001b[1;31m---------------------------------------------------------------------------\u001b[0m",
      "\u001b[1;31mTypeError\u001b[0m                                 Traceback (most recent call last)",
      "Cell \u001b[1;32mIn[7], line 2\u001b[0m\n\u001b[0;32m      1\u001b[0m \u001b[38;5;28;01mtry\u001b[39;00m:\n\u001b[1;32m----> 2\u001b[0m     \u001b[38;5;241;43m123\u001b[39;49m\u001b[43m \u001b[49m\u001b[38;5;241;43m+\u001b[39;49m\u001b[43m \u001b[49m\u001b[38;5;124;43m'\u001b[39;49m\u001b[38;5;124;43mabc\u001b[39;49m\u001b[38;5;124;43m'\u001b[39;49m\n\u001b[0;32m      3\u001b[0m \u001b[38;5;28;01mexcept\u001b[39;00m \u001b[38;5;167;01mNameError\u001b[39;00m:\n\u001b[0;32m      4\u001b[0m      \u001b[38;5;28mprint\u001b[39m(\u001b[38;5;124m'\u001b[39m\u001b[38;5;124mOops, something went wrong!\u001b[39m\u001b[38;5;124m'\u001b[39m)\n",
      "\u001b[1;31mTypeError\u001b[0m: unsupported operand type(s) for +: 'int' and 'str'"
     ]
    }
   ],
   "source": [
    "try:\n",
    "    123 + 'abc'\n",
    "except NameError:\n",
    "     print('Oops, something went wrong!')"
   ]
  },
  {
   "cell_type": "markdown",
   "metadata": {},
   "source": [
    "But then, what if we are not sure about the type of exception that we expect to occur in our code? One solution is to except for both `NameError` and `TypeError`. This way, we can catch either a `NameError` or a `TypeError` exception."
   ]
  },
  {
   "cell_type": "code",
   "execution_count": 8,
   "metadata": {
    "tags": []
   },
   "outputs": [
    {
     "name": "stdout",
     "output_type": "stream",
     "text": [
      "Oops, wrong type error!\n"
     ]
    }
   ],
   "source": [
    "try:\n",
    "    123 + 'abc'\n",
    "except NameError:\n",
    "    print('Oops, wrong name error!')\n",
    "except TypeError:\n",
    "    print('Oops, wrong type error!')"
   ]
  },
  {
   "cell_type": "code",
   "execution_count": 9,
   "metadata": {
    "tags": []
   },
   "outputs": [
    {
     "name": "stdout",
     "output_type": "stream",
     "text": [
      "Oops, wrong name error!\n"
     ]
    }
   ],
   "source": [
    "try:\n",
    "    var2 = 6\n",
    "    print(Var2)\n",
    "except NameError:\n",
    "    print('Oops, wrong name error!')\n",
    "except TypeError:\n",
    "    print('Oops, wrong type error!')"
   ]
  },
  {
   "cell_type": "markdown",
   "metadata": {},
   "source": [
    "Python allows to insert multiple `except` statements under a single `try` statement for catching different exception types.\n",
    "\n",
    "It is also possible to catch any of multiple exceptions by providing a tuple of exception types after the `except` keyword, as shown in the following example."
   ]
  },
  {
   "cell_type": "code",
   "execution_count": null,
   "metadata": {
    "tags": []
   },
   "outputs": [],
   "source": [
    "try:\n",
    "    123 + 'abc'\n",
    "except (NameError, TypeError):\n",
    "    print('Oops, wrong name or wrong type error!')"
   ]
  },
  {
   "cell_type": "markdown",
   "metadata": {},
   "source": [
    "When there are multiple `except` statements, the `try` block is executed line by line until the first matching exception is caught. In this example, that is the `NameError` exception, and the print line under `except NameError` is executed. The error in the line `123 + 'abc'` is not caught because the execution of the `try` block is interrupted after the first exception is detected."
   ]
  },
  {
   "cell_type": "code",
   "execution_count": 10,
   "metadata": {
    "tags": []
   },
   "outputs": [
    {
     "name": "stdout",
     "output_type": "stream",
     "text": [
      "Oops, wrong name error!\n"
     ]
    }
   ],
   "source": [
    "try:\n",
    "    var2 = 6\n",
    "    print(Var2)\n",
    "    123 + 'abc'\n",
    "except TypeError:\n",
    "    print('Oops, wrong type error!')\n",
    "except SyntaxError:\n",
    "    print('Oops, wrong syntax error!')\n",
    "except NameError:\n",
    "    print('Oops, wrong name error!')\n",
    "except (IndexError, IndentationError):\n",
    "    print('Oops, wrong index or indentation error!')"
   ]
  },
  {
   "cell_type": "markdown",
   "metadata": {},
   "source": [
    "Another alternative is to write only `except` without specifying any exception type. An empty `except` clause will catch all exception types, and with that, we don't need to list the expected error types in the code. "
   ]
  },
  {
   "cell_type": "code",
   "execution_count": 11,
   "metadata": {
    "tags": []
   },
   "outputs": [
    {
     "name": "stdout",
     "output_type": "stream",
     "text": [
      "Oops, something went wrong!\n"
     ]
    }
   ],
   "source": [
    "try:\n",
    "    var2 = 6\n",
    "    print(Var2)\n",
    "except:\n",
    "    print('Oops, something went wrong!')"
   ]
  },
  {
   "cell_type": "markdown",
   "metadata": {},
   "source": [
    "Despite this convenience, it is not generally recommended to use the empty `except` statement very often. One reason is that in the previous example we will only know that something was wrong with our code, but we won't know what caused the error. This makes fixing the program difficult. In addition, the empty `except` statement can also catch some system errors that are not related to our code (such as system exit, Ctrl+C interrupt). And even worse, it may also catch genuine programming mistakes in our code for which we probably want to see an error message.\n",
    "\n",
    "Therefore, it is better to be specific about what types of exceptions we want to catch and where, instead of catching everything we can in the whole program.\n",
    "\n",
    "Similarly, writing `Exception` after the `except` statement will catch all exceptions, and acts the same as an empty `except` clause. Differently from an empty `except` clause, the `Exception` statement does not catch system-related exceptions, and it is therefore somewhat preferred, but it should still be used with caution."
   ]
  },
  {
   "cell_type": "code",
   "execution_count": 12,
   "metadata": {
    "tags": []
   },
   "outputs": [
    {
     "name": "stdout",
     "output_type": "stream",
     "text": [
      "Oops, something went wrong!\n"
     ]
    }
   ],
   "source": [
    "try:\n",
    "    var2 = 6\n",
    "    print(Var2)\n",
    "except Exception:\n",
    "    print('Oops, something went wrong!')"
   ]
  },
  {
   "cell_type": "markdown",
   "metadata": {},
   "source": [
    "It is also possible to catch an exception and store it in a variable. In the following cell, we are catching an exception and storing it in the variable `my_error`."
   ]
  },
  {
   "cell_type": "code",
   "execution_count": 13,
   "metadata": {
    "tags": []
   },
   "outputs": [],
   "source": [
    "try:\n",
    "    123 + 'abc'\n",
    "except TypeError as var3:\n",
    "    my_error = var3    "
   ]
  },
  {
   "cell_type": "code",
   "execution_count": 14,
   "metadata": {
    "tags": []
   },
   "outputs": [
    {
     "data": {
      "text/plain": [
       "TypeError(\"unsupported operand type(s) for +: 'int' and 'str'\")"
      ]
     },
     "execution_count": 14,
     "metadata": {},
     "output_type": "execute_result"
    }
   ],
   "source": [
    "my_error"
   ]
  },
  {
   "cell_type": "markdown",
   "metadata": {},
   "source": [
    "The syntax of the `try/except` statement can also include an optional `else` statement. The block of statements indented under `else` is executed if there is no exception caught in the `try` block. \n",
    "\n",
    "In this example, there is an exception in the `print(Var2)` line, and because of that, the statement under `except` is executed."
   ]
  },
  {
   "cell_type": "code",
   "execution_count": 15,
   "metadata": {
    "tags": []
   },
   "outputs": [
    {
     "name": "stdout",
     "output_type": "stream",
     "text": [
      "Oops, something went wrong!\n"
     ]
    }
   ],
   "source": [
    "try:\n",
    "    var2 = 6\n",
    "    print(Var2)\n",
    "    print('This message is not printed')\n",
    "except NameError:\n",
    "    print('Oops, something went wrong!')\n",
    "else:\n",
    "    print('The code is executed successfully, no exception occurred!')"
   ]
  },
  {
   "cell_type": "markdown",
   "metadata": {},
   "source": [
    "On the contrary, the following code does not raise an exception, and therefore, the statements under `try` are executed, and also, the statement under `else` is executed."
   ]
  },
  {
   "cell_type": "code",
   "execution_count": 16,
   "metadata": {
    "tags": []
   },
   "outputs": [
    {
     "name": "stdout",
     "output_type": "stream",
     "text": [
      "6\n",
      "This message is printed\n",
      "The code is executed successfully, no exception occurred!\n"
     ]
    }
   ],
   "source": [
    "try:\n",
    "    var2 = 6\n",
    "    print(var2)\n",
    "    print('This message is printed')\n",
    "except NameError:\n",
    "    print('Oops, something went wrong!')\n",
    "else:\n",
    "    print('The code is executed successfully, no exception occurred!')"
   ]
  },
  {
   "cell_type": "markdown",
   "metadata": {},
   "source": [
    "The general syntax of the `try/except/else` statement is as shown below. It is a compound, multipart statement, that starts with a `try` header. It is followed by one or more `except` blocks, which identify exceptions to be caught and blocks to process them. The `else` statement is optional, and it is listed after the `except` blocks; the `else` block runs if no exceptions are encountered. The words `try`, `except`, and `else` should be indented to the same level (vertically aligned). \n",
    "\n",
    "```\n",
    "    try:\n",
    "       Place your operations here.\n",
    "       ...\n",
    "       ...\n",
    "    except ExceptionI:\n",
    "       If there is ExceptionI, then execute this block.\n",
    "    except ExceptionII:\n",
    "       If there is ExceptionII, then execute this block.\n",
    "    except (ExceptionIII, ExceptionIV):\n",
    "        If there is ExceptionIII or ExceptionIV, then execute this block.\n",
    "    except ExceptionV as Var1:\n",
    "        If there is ExceptionV, store it in the variable Var1, and then execute this block.\n",
    "    except:\n",
    "        If there are any other exceptions, then execute this block.   \n",
    "       ...\n",
    "       ...\n",
    "    else:\n",
    "       If there is no exception, then execute this block. \n",
    "```       \n"
   ]
  },
  {
   "cell_type": "markdown",
   "metadata": {},
   "source": [
    "### The `finally` Statement"
   ]
  },
  {
   "cell_type": "markdown",
   "metadata": {},
   "source": [
    "The `finally` statement is another statement that can be combined with `try`. The general syntax is shown below. The goal is to always execute the block of code indented under `finally` regardless of whether there was an exception in the `try` block or not.\n",
    "\n",
    "```\n",
    "try:\n",
    "   Place your operations here\n",
    "   ...\n",
    "   ...\n",
    "   Due to exceptions, these lines of code may be skipped.\n",
    "finally:\n",
    "   This code block is always executed, regardless of whether exceptions occurred.\n",
    "```\n",
    "\n",
    "The `try/finally` form is useful when we want to be completely sure that an action will happen after some code runs, without considering the exception behavior of the program. In practice, this allows to specify cleanup actions that must always occur, such as file closes or server disconnects."
   ]
  },
  {
   "cell_type": "markdown",
   "metadata": {},
   "source": [
    "The next example opens a file named `testfile` for writing, then writes some text, and closes the file. The code under `finally` is executed."
   ]
  },
  {
   "cell_type": "code",
   "execution_count": 17,
   "metadata": {
    "tags": []
   },
   "outputs": [
    {
     "name": "stdout",
     "output_type": "stream",
     "text": [
      "The finally code block is always executed\n"
     ]
    }
   ],
   "source": [
    "try:\n",
    "    f = open('testfile', 'w')\n",
    "    f.write('First sentence, second sentence, end')\n",
    "    f.close()\n",
    "finally:\n",
    "    print('The finally code block is always executed')"
   ]
  },
  {
   "cell_type": "markdown",
   "metadata": {},
   "source": [
    "Then, this cell reads the file."
   ]
  },
  {
   "cell_type": "code",
   "execution_count": 18,
   "metadata": {
    "tags": []
   },
   "outputs": [
    {
     "name": "stdout",
     "output_type": "stream",
     "text": [
      "First sentence, second sentence, end\n",
      "The finally code block is always executed\n"
     ]
    }
   ],
   "source": [
    "try:\n",
    "    f = open('testfile', 'r')\n",
    "    print(f.read())\n",
    "    f.close()\n",
    "finally:\n",
    "    print('The finally code block is always executed')"
   ]
  },
  {
   "cell_type": "markdown",
   "metadata": {},
   "source": [
    "For practice, let's make an intentional mistake and try to open a file for reading that does not exist. As expected, we got a `FileNotFoundError`, however the code under `finally` was still executed."
   ]
  },
  {
   "cell_type": "code",
   "execution_count": 19,
   "metadata": {
    "tags": []
   },
   "outputs": [
    {
     "name": "stdout",
     "output_type": "stream",
     "text": [
      "The finally code block is always executed\n"
     ]
    },
    {
     "ename": "FileNotFoundError",
     "evalue": "[Errno 2] No such file or directory: 'wrongfile'",
     "output_type": "error",
     "traceback": [
      "\u001b[1;31m---------------------------------------------------------------------------\u001b[0m",
      "\u001b[1;31mFileNotFoundError\u001b[0m                         Traceback (most recent call last)",
      "Cell \u001b[1;32mIn[19], line 2\u001b[0m\n\u001b[0;32m      1\u001b[0m \u001b[38;5;28;01mtry\u001b[39;00m:\n\u001b[1;32m----> 2\u001b[0m     f \u001b[38;5;241m=\u001b[39m \u001b[38;5;28;43mopen\u001b[39;49m\u001b[43m(\u001b[49m\u001b[38;5;124;43m'\u001b[39;49m\u001b[38;5;124;43mwrongfile\u001b[39;49m\u001b[38;5;124;43m'\u001b[39;49m\u001b[43m,\u001b[49m\u001b[43m \u001b[49m\u001b[38;5;124;43m'\u001b[39;49m\u001b[38;5;124;43mr\u001b[39;49m\u001b[38;5;124;43m'\u001b[39;49m\u001b[43m)\u001b[49m\n\u001b[0;32m      3\u001b[0m     \u001b[38;5;28mprint\u001b[39m(f\u001b[38;5;241m.\u001b[39mread())\n\u001b[0;32m      4\u001b[0m     f\u001b[38;5;241m.\u001b[39mclose()\n",
      "File \u001b[1;32m~\\anaconda3\\lib\\site-packages\\IPython\\core\\interactiveshell.py:284\u001b[0m, in \u001b[0;36m_modified_open\u001b[1;34m(file, *args, **kwargs)\u001b[0m\n\u001b[0;32m    277\u001b[0m \u001b[38;5;28;01mif\u001b[39;00m file \u001b[38;5;129;01min\u001b[39;00m {\u001b[38;5;241m0\u001b[39m, \u001b[38;5;241m1\u001b[39m, \u001b[38;5;241m2\u001b[39m}:\n\u001b[0;32m    278\u001b[0m     \u001b[38;5;28;01mraise\u001b[39;00m \u001b[38;5;167;01mValueError\u001b[39;00m(\n\u001b[0;32m    279\u001b[0m         \u001b[38;5;124mf\u001b[39m\u001b[38;5;124m\"\u001b[39m\u001b[38;5;124mIPython won\u001b[39m\u001b[38;5;124m'\u001b[39m\u001b[38;5;124mt let you open fd=\u001b[39m\u001b[38;5;132;01m{\u001b[39;00mfile\u001b[38;5;132;01m}\u001b[39;00m\u001b[38;5;124m by default \u001b[39m\u001b[38;5;124m\"\u001b[39m\n\u001b[0;32m    280\u001b[0m         \u001b[38;5;124m\"\u001b[39m\u001b[38;5;124mas it is likely to crash IPython. If you know what you are doing, \u001b[39m\u001b[38;5;124m\"\u001b[39m\n\u001b[0;32m    281\u001b[0m         \u001b[38;5;124m\"\u001b[39m\u001b[38;5;124myou can use builtins\u001b[39m\u001b[38;5;124m'\u001b[39m\u001b[38;5;124m open.\u001b[39m\u001b[38;5;124m\"\u001b[39m\n\u001b[0;32m    282\u001b[0m     )\n\u001b[1;32m--> 284\u001b[0m \u001b[38;5;28;01mreturn\u001b[39;00m io_open(file, \u001b[38;5;241m*\u001b[39margs, \u001b[38;5;241m*\u001b[39m\u001b[38;5;241m*\u001b[39mkwargs)\n",
      "\u001b[1;31mFileNotFoundError\u001b[0m: [Errno 2] No such file or directory: 'wrongfile'"
     ]
    }
   ],
   "source": [
    "try:\n",
    "    f = open('wrongfile', 'r')\n",
    "    print(f.read())\n",
    "    f.close()\n",
    "finally:\n",
    "    print('The finally code block is always executed')"
   ]
  },
  {
   "cell_type": "markdown",
   "metadata": {},
   "source": [
    "The `finally` clause can also be combined with `except` and `else`. The logic remains the same, that is, the block under `finally` will always be executed. In this example the exception is caught, and the print statement under `except` and `finally` are displayed."
   ]
  },
  {
   "cell_type": "code",
   "execution_count": 20,
   "metadata": {
    "tags": []
   },
   "outputs": [
    {
     "name": "stdout",
     "output_type": "stream",
     "text": [
      "Oops, there is no such file\n",
      "The finally code block is always executed\n"
     ]
    }
   ],
   "source": [
    "try:\n",
    "    f = open('wrongfile', 'r')\n",
    "    print(f.read())\n",
    "    f.close()\n",
    "except FileNotFoundError:\n",
    "    print('Oops, there is no such file')\n",
    "finally:\n",
    "    print('The finally code block is always executed')"
   ]
  },
  {
   "cell_type": "markdown",
   "metadata": {},
   "source": [
    "### Error Types"
   ]
  },
  {
   "cell_type": "markdown",
   "metadata": {},
   "source": [
    "Besides the above types `NameError` and `TypeError`, let's briefly look at several other common error types in Python.\n",
    "\n",
    "`SyntaxError` occurs when there is a problem with the structure of the code in the program (e.g., EOL below stands for End-Of-Line error, meaning that we forgot the single quote at the end of the string in this example). `IndexError` points to wrong indexing of sequences. `IndentationError`, `FileEror`, `ZeroDivisionError` are self-explanatory.  "
   ]
  },
  {
   "cell_type": "code",
   "execution_count": 21,
   "metadata": {
    "tags": []
   },
   "outputs": [
    {
     "ename": "SyntaxError",
     "evalue": "EOL while scanning string literal (784925064.py, line 1)",
     "output_type": "error",
     "traceback": [
      "\u001b[1;36m  Cell \u001b[1;32mIn[21], line 1\u001b[1;36m\u001b[0m\n\u001b[1;33m    print('Hello world)\u001b[0m\n\u001b[1;37m                       ^\u001b[0m\n\u001b[1;31mSyntaxError\u001b[0m\u001b[1;31m:\u001b[0m EOL while scanning string literal\n"
     ]
    }
   ],
   "source": [
    "print('Hello world)"
   ]
  },
  {
   "cell_type": "code",
   "execution_count": 22,
   "metadata": {
    "tags": []
   },
   "outputs": [
    {
     "ename": "IndexError",
     "evalue": "list index out of range",
     "output_type": "error",
     "traceback": [
      "\u001b[1;31m---------------------------------------------------------------------------\u001b[0m",
      "\u001b[1;31mIndexError\u001b[0m                                Traceback (most recent call last)",
      "Cell \u001b[1;32mIn[22], line 2\u001b[0m\n\u001b[0;32m      1\u001b[0m list1 \u001b[38;5;241m=\u001b[39m [\u001b[38;5;241m1\u001b[39m, \u001b[38;5;241m2\u001b[39m, \u001b[38;5;241m3\u001b[39m]\n\u001b[1;32m----> 2\u001b[0m \u001b[43mlist1\u001b[49m\u001b[43m[\u001b[49m\u001b[38;5;241;43m10\u001b[39;49m\u001b[43m]\u001b[49m\n",
      "\u001b[1;31mIndexError\u001b[0m: list index out of range"
     ]
    }
   ],
   "source": [
    "list1 = [1, 2, 3]\n",
    "list1[10]"
   ]
  },
  {
   "cell_type": "code",
   "execution_count": 23,
   "metadata": {
    "tags": []
   },
   "outputs": [
    {
     "ename": "IndentationError",
     "evalue": "unexpected indent (2340134597.py, line 4)",
     "output_type": "error",
     "traceback": [
      "\u001b[1;36m  Cell \u001b[1;32mIn[23], line 4\u001b[1;36m\u001b[0m\n\u001b[1;33m    return msg\u001b[0m\n\u001b[1;37m    ^\u001b[0m\n\u001b[1;31mIndentationError\u001b[0m\u001b[1;31m:\u001b[0m unexpected indent\n"
     ]
    }
   ],
   "source": [
    "def func1():\n",
    "    msg = 'Hello world'\n",
    "    print(msg)\n",
    "     return msg"
   ]
  },
  {
   "cell_type": "code",
   "execution_count": 24,
   "metadata": {
    "tags": []
   },
   "outputs": [
    {
     "ename": "FileNotFoundError",
     "evalue": "[Errno 2] No such file or directory: 'newfile.txt'",
     "output_type": "error",
     "traceback": [
      "\u001b[1;31m---------------------------------------------------------------------------\u001b[0m",
      "\u001b[1;31mFileNotFoundError\u001b[0m                         Traceback (most recent call last)",
      "Cell \u001b[1;32mIn[24], line 1\u001b[0m\n\u001b[1;32m----> 1\u001b[0m myfile \u001b[38;5;241m=\u001b[39m \u001b[38;5;28;43mopen\u001b[39;49m\u001b[43m(\u001b[49m\u001b[38;5;124;43m'\u001b[39;49m\u001b[38;5;124;43mnewfile.txt\u001b[39;49m\u001b[38;5;124;43m'\u001b[39;49m\u001b[43m,\u001b[49m\u001b[43m \u001b[49m\u001b[38;5;124;43m'\u001b[39;49m\u001b[38;5;124;43mr\u001b[39;49m\u001b[38;5;124;43m'\u001b[39;49m\u001b[43m)\u001b[49m\n",
      "File \u001b[1;32m~\\anaconda3\\lib\\site-packages\\IPython\\core\\interactiveshell.py:284\u001b[0m, in \u001b[0;36m_modified_open\u001b[1;34m(file, *args, **kwargs)\u001b[0m\n\u001b[0;32m    277\u001b[0m \u001b[38;5;28;01mif\u001b[39;00m file \u001b[38;5;129;01min\u001b[39;00m {\u001b[38;5;241m0\u001b[39m, \u001b[38;5;241m1\u001b[39m, \u001b[38;5;241m2\u001b[39m}:\n\u001b[0;32m    278\u001b[0m     \u001b[38;5;28;01mraise\u001b[39;00m \u001b[38;5;167;01mValueError\u001b[39;00m(\n\u001b[0;32m    279\u001b[0m         \u001b[38;5;124mf\u001b[39m\u001b[38;5;124m\"\u001b[39m\u001b[38;5;124mIPython won\u001b[39m\u001b[38;5;124m'\u001b[39m\u001b[38;5;124mt let you open fd=\u001b[39m\u001b[38;5;132;01m{\u001b[39;00mfile\u001b[38;5;132;01m}\u001b[39;00m\u001b[38;5;124m by default \u001b[39m\u001b[38;5;124m\"\u001b[39m\n\u001b[0;32m    280\u001b[0m         \u001b[38;5;124m\"\u001b[39m\u001b[38;5;124mas it is likely to crash IPython. If you know what you are doing, \u001b[39m\u001b[38;5;124m\"\u001b[39m\n\u001b[0;32m    281\u001b[0m         \u001b[38;5;124m\"\u001b[39m\u001b[38;5;124myou can use builtins\u001b[39m\u001b[38;5;124m'\u001b[39m\u001b[38;5;124m open.\u001b[39m\u001b[38;5;124m\"\u001b[39m\n\u001b[0;32m    282\u001b[0m     )\n\u001b[1;32m--> 284\u001b[0m \u001b[38;5;28;01mreturn\u001b[39;00m io_open(file, \u001b[38;5;241m*\u001b[39margs, \u001b[38;5;241m*\u001b[39m\u001b[38;5;241m*\u001b[39mkwargs)\n",
      "\u001b[1;31mFileNotFoundError\u001b[0m: [Errno 2] No such file or directory: 'newfile.txt'"
     ]
    }
   ],
   "source": [
    "myfile = open('newfile.txt', 'r')"
   ]
  },
  {
   "cell_type": "code",
   "execution_count": 25,
   "metadata": {
    "tags": []
   },
   "outputs": [
    {
     "ename": "ZeroDivisionError",
     "evalue": "division by zero",
     "output_type": "error",
     "traceback": [
      "\u001b[1;31m---------------------------------------------------------------------------\u001b[0m",
      "\u001b[1;31mZeroDivisionError\u001b[0m                         Traceback (most recent call last)",
      "Cell \u001b[1;32mIn[25], line 1\u001b[0m\n\u001b[1;32m----> 1\u001b[0m \u001b[38;5;241;43m10\u001b[39;49m\u001b[38;5;241;43m/\u001b[39;49m\u001b[38;5;241;43m0\u001b[39;49m\n",
      "\u001b[1;31mZeroDivisionError\u001b[0m: division by zero"
     ]
    }
   ],
   "source": [
    "10/0"
   ]
  },
  {
   "cell_type": "code",
   "execution_count": 26,
   "metadata": {
    "tags": []
   },
   "outputs": [
    {
     "ename": "IndentationError",
     "evalue": "unexpected indent (2953832000.py, line 3)",
     "output_type": "error",
     "traceback": [
      "\u001b[1;36m  Cell \u001b[1;32mIn[26], line 3\u001b[1;36m\u001b[0m\n\u001b[1;33m    print(10/x)\u001b[0m\n\u001b[1;37m    ^\u001b[0m\n\u001b[1;31mIndentationError\u001b[0m\u001b[1;31m:\u001b[0m unexpected indent\n"
     ]
    }
   ],
   "source": [
    "# The zero division error is not detected because the indentation error was first detected and the line didn't run\n",
    "x = 0\n",
    " print(10/x)"
   ]
  },
  {
   "cell_type": "markdown",
   "metadata": {},
   "source": [
    "All exceptions in Python are shown below. Detailed explanations about each exception can be found [here](https://docs.python.org/3/library/exceptions.html). \n",
    "\n",
    "Note that the exceptions have a hierarchy, where for instance, catching an `ArithmeticError` exception will catch everything that is under it in the tree, i.e., `FloatingPointError`, `OverflowError`, and `ZeroDivisionError`. There are also a few exceptions that are not in this tree, like `SystemExit` and `KeyboardInterrupt`, but most of the time we shouldn't catch these exceptions.\n",
    "\n",
    "    Exception\n",
    "    ├── ArithmeticError\n",
    "    │   ├── FloatingPointError\n",
    "    │   ├── OverflowError\n",
    "    │   └── ZeroDivisionError\n",
    "    ├── AssertionError\n",
    "    ├── AttributeError\n",
    "    ├── BufferError\n",
    "    ├── EOFError\n",
    "    ├── ImportError\n",
    "    ├── LookupError\n",
    "    │   ├── IndexError\n",
    "    │   └── KeyError\n",
    "    ├── MemoryError\n",
    "    ├── NameError\n",
    "    │   └── UnboundLocalError\n",
    "    ├── OSError\n",
    "    │   ├── BlockingIOError\n",
    "    │   ├── ChildProcessError\n",
    "    │   ├── ConnectionError\n",
    "    │   │   ├── BrokenPipeError\n",
    "    │   │   ├── ConnectionAbortedError\n",
    "    │   │   ├── ConnectionRefusedError\n",
    "    │   │   └── ConnectionResetError\n",
    "    │   ├── FileExistsError\n",
    "    │   ├── FileNotFoundError\n",
    "    │   ├── InterruptedError\n",
    "    │   ├── IsADirectoryError\n",
    "    │   ├── NotADirectoryError\n",
    "    │   ├── PermissionError\n",
    "    │   ├── ProcessLookupError\n",
    "    │   └── TimeoutError\n",
    "    ├── ReferenceError\n",
    "    ├── RuntimeError\n",
    "    │   └── NotImplementedError\n",
    "    ├── StopIteration\n",
    "    ├── SyntaxError\n",
    "    │   └── IndentationError\n",
    "    │       └── TabError\n",
    "    ├── SystemError\n",
    "    ├── TypeError\n",
    "    ├── ValueError\n",
    "    │   └── UnicodeError\n",
    "    │       ├── UnicodeDecodeError\n",
    "    │       ├── UnicodeEncodeError\n",
    "    │       └── UnicodeTranslateError\n",
    "    └── Warning\n",
    "        ├── BytesWarning\n",
    "        ├── DeprecationWarning\n",
    "        ├── FutureWarning\n",
    "        ├── ImportWarning\n",
    "        ├── PendingDeprecationWarning\n",
    "        ├── ResourceWarning\n",
    "        ├── RuntimeWarning\n",
    "        ├── SyntaxWarning\n",
    "        ├── UnicodeWarning\n",
    "        └── UserWarning"
   ]
  },
  {
   "cell_type": "markdown",
   "metadata": {},
   "source": [
    "### The `raise` Statement "
   ]
  },
  {
   "cell_type": "markdown",
   "metadata": {},
   "source": [
    "In Python, we can also trigger exceptions and create error messages manually. This is known as **raising an exception**, and it is coded with the `raise` keyword followed by the exception and an optional error message.\n",
    "\n",
    "The general syntax is as follows:\n",
    "```\n",
    "if test_condition:\n",
    "    raise Exception(Message)\n",
    "```\n",
    "\n",
    "In the following example, we raise an exception and stop the program if `x` is less than 0. In the parentheses, we specified the text that is to be displayed in the error message."
   ]
  },
  {
   "cell_type": "code",
   "execution_count": 27,
   "metadata": {
    "tags": []
   },
   "outputs": [
    {
     "ename": "Exception",
     "evalue": "Sorry, no numbers below zero",
     "output_type": "error",
     "traceback": [
      "\u001b[1;31m---------------------------------------------------------------------------\u001b[0m",
      "\u001b[1;31mException\u001b[0m                                 Traceback (most recent call last)",
      "Cell \u001b[1;32mIn[27], line 4\u001b[0m\n\u001b[0;32m      1\u001b[0m x \u001b[38;5;241m=\u001b[39m \u001b[38;5;241m-\u001b[39m\u001b[38;5;241m1\u001b[39m\n\u001b[0;32m      3\u001b[0m \u001b[38;5;28;01mif\u001b[39;00m x \u001b[38;5;241m<\u001b[39m \u001b[38;5;241m0\u001b[39m:\n\u001b[1;32m----> 4\u001b[0m     \u001b[38;5;28;01mraise\u001b[39;00m \u001b[38;5;167;01mException\u001b[39;00m(\u001b[38;5;124m'\u001b[39m\u001b[38;5;124mSorry, no numbers below zero\u001b[39m\u001b[38;5;124m'\u001b[39m)\n",
      "\u001b[1;31mException\u001b[0m: Sorry, no numbers below zero"
     ]
    }
   ],
   "source": [
    "x = -1\n",
    "\n",
    "if x < 0:\n",
    "    raise Exception('Sorry, no numbers below zero')"
   ]
  },
  {
   "cell_type": "markdown",
   "metadata": {},
   "source": [
    "We can also define the type of exception to raise after the `raise` keyword, such as `TypeError` in the next example."
   ]
  },
  {
   "cell_type": "code",
   "execution_count": 28,
   "metadata": {
    "tags": []
   },
   "outputs": [
    {
     "data": {
      "text/plain": [
       "str"
      ]
     },
     "execution_count": 28,
     "metadata": {},
     "output_type": "execute_result"
    }
   ],
   "source": [
    "y = 'hello'\n",
    "\n",
    "type(y)"
   ]
  },
  {
   "cell_type": "code",
   "execution_count": 29,
   "metadata": {
    "tags": []
   },
   "outputs": [
    {
     "ename": "TypeError",
     "evalue": "Only integers are allowed",
     "output_type": "error",
     "traceback": [
      "\u001b[1;31m---------------------------------------------------------------------------\u001b[0m",
      "\u001b[1;31mTypeError\u001b[0m                                 Traceback (most recent call last)",
      "Cell \u001b[1;32mIn[29], line 2\u001b[0m\n\u001b[0;32m      1\u001b[0m \u001b[38;5;28;01mif\u001b[39;00m \u001b[38;5;28mtype\u001b[39m(y) \u001b[38;5;129;01mis\u001b[39;00m \u001b[38;5;129;01mnot\u001b[39;00m \u001b[38;5;28mint\u001b[39m:\n\u001b[1;32m----> 2\u001b[0m     \u001b[38;5;28;01mraise\u001b[39;00m \u001b[38;5;167;01mTypeError\u001b[39;00m(\u001b[38;5;124m'\u001b[39m\u001b[38;5;124mOnly integers are allowed\u001b[39m\u001b[38;5;124m'\u001b[39m)\n",
      "\u001b[1;31mTypeError\u001b[0m: Only integers are allowed"
     ]
    }
   ],
   "source": [
    "if type(y) is not int:\n",
    "    raise TypeError('Only integers are allowed')"
   ]
  },
  {
   "cell_type": "markdown",
   "metadata": {},
   "source": [
    "When an exception is not raised, the indented block under `raise` is not executed."
   ]
  },
  {
   "cell_type": "code",
   "execution_count": 30,
   "metadata": {
    "tags": []
   },
   "outputs": [],
   "source": [
    "y = 3\n",
    "\n",
    "if type(y) is not int:\n",
    "    raise TypeError('Only integers are allowed')"
   ]
  },
  {
   "cell_type": "markdown",
   "metadata": {},
   "source": [
    "We can also create custom exceptions ahead of time, and use them afterward in our code. "
   ]
  },
  {
   "cell_type": "code",
   "execution_count": 31,
   "metadata": {
    "tags": []
   },
   "outputs": [
    {
     "ename": "TypeError",
     "evalue": "Sorry, the input should be an integer number",
     "output_type": "error",
     "traceback": [
      "\u001b[1;31m---------------------------------------------------------------------------\u001b[0m",
      "\u001b[1;31mTypeError\u001b[0m                                 Traceback (most recent call last)",
      "Cell \u001b[1;32mIn[31], line 6\u001b[0m\n\u001b[0;32m      3\u001b[0m z \u001b[38;5;241m=\u001b[39m \u001b[38;5;124m'\u001b[39m\u001b[38;5;124mone\u001b[39m\u001b[38;5;124m'\u001b[39m\n\u001b[0;32m      5\u001b[0m \u001b[38;5;28;01mif\u001b[39;00m \u001b[38;5;28mtype\u001b[39m(z) \u001b[38;5;129;01mis\u001b[39;00m \u001b[38;5;129;01mnot\u001b[39;00m \u001b[38;5;28mint\u001b[39m:\n\u001b[1;32m----> 6\u001b[0m     \u001b[38;5;28;01mraise\u001b[39;00m my_exception\n",
      "\u001b[1;31mTypeError\u001b[0m: Sorry, the input should be an integer number"
     ]
    }
   ],
   "source": [
    "my_exception = TypeError('Sorry, the input should be an integer number')\n",
    "\n",
    "z = 'one'\n",
    "\n",
    "if type(z) is not int:\n",
    "    raise my_exception"
   ]
  },
  {
   "cell_type": "markdown",
   "metadata": {},
   "source": [
    "In the above cell, `my_exception` is in fact an instance of the class `TypeError`. The error message that we typed above is an attribute of the created instance of `TypeError` class. "
   ]
  },
  {
   "cell_type": "markdown",
   "metadata": {},
   "source": [
    "Additionally, the `raise` statement can be used alone, without an exception name. In that case, it simply reraises the current exception. This form is typically used if we need to catch and handle an exception, but don’t want the exception to be hidden and terminated in the code.\n",
    "\n",
    "Consider the following example where `except` catches a `ZeroDivisionError`."
   ]
  },
  {
   "cell_type": "code",
   "execution_count": 32,
   "metadata": {
    "tags": []
   },
   "outputs": [
    {
     "name": "stdout",
     "output_type": "stream",
     "text": [
      "Oops, something went wrong\n"
     ]
    }
   ],
   "source": [
    "a = 10\n",
    "b = 0\n",
    "try:\n",
    "    print(a/b)\n",
    "except ZeroDivisionError:\n",
    "    print('Oops, something went wrong')    "
   ]
  },
  {
   "cell_type": "markdown",
   "metadata": {},
   "source": [
    "Including the `raise` statement alone at the end of the code causes the exception to be reraised."
   ]
  },
  {
   "cell_type": "code",
   "execution_count": 33,
   "metadata": {
    "tags": []
   },
   "outputs": [
    {
     "name": "stdout",
     "output_type": "stream",
     "text": [
      "Oops, something went wrong\n"
     ]
    },
    {
     "ename": "ZeroDivisionError",
     "evalue": "division by zero",
     "output_type": "error",
     "traceback": [
      "\u001b[1;31m---------------------------------------------------------------------------\u001b[0m",
      "\u001b[1;31mZeroDivisionError\u001b[0m                         Traceback (most recent call last)",
      "Cell \u001b[1;32mIn[33], line 4\u001b[0m\n\u001b[0;32m      2\u001b[0m b \u001b[38;5;241m=\u001b[39m \u001b[38;5;241m0\u001b[39m\n\u001b[0;32m      3\u001b[0m \u001b[38;5;28;01mtry\u001b[39;00m:\n\u001b[1;32m----> 4\u001b[0m     \u001b[38;5;28mprint\u001b[39m(\u001b[43ma\u001b[49m\u001b[38;5;241;43m/\u001b[39;49m\u001b[43mb\u001b[49m)\n\u001b[0;32m      5\u001b[0m \u001b[38;5;28;01mexcept\u001b[39;00m \u001b[38;5;167;01mZeroDivisionError\u001b[39;00m:\n\u001b[0;32m      6\u001b[0m     \u001b[38;5;28mprint\u001b[39m(\u001b[38;5;124m'\u001b[39m\u001b[38;5;124mOops, something went wrong\u001b[39m\u001b[38;5;124m'\u001b[39m) \n",
      "\u001b[1;31mZeroDivisionError\u001b[0m: division by zero"
     ]
    }
   ],
   "source": [
    "a = 10\n",
    "b = 0\n",
    "try:\n",
    "    print(a/b)\n",
    "except ZeroDivisionError:\n",
    "    print('Oops, something went wrong') \n",
    "    raise"
   ]
  },
  {
   "cell_type": "markdown",
   "metadata": {},
   "source": [
    "Here is another example, where the function `quad` is used for calculating the roots of a quadratic function with coefficients `a`, `b`, and `c`. The user-defined `QuadError` raises an exception if the function is not quadratic, or if it does not have real roots. The `raise` statement allows us to introduce application-specific errors in our codes."
   ]
  },
  {
   "cell_type": "code",
   "execution_count": 34,
   "metadata": {
    "tags": []
   },
   "outputs": [],
   "source": [
    "import math\n",
    "class QuadError(Exception): pass\n",
    "\n",
    "def quad(a, b, c):\n",
    "    if a == 0:\n",
    "        raise QuadError('Not quadratic')\n",
    "    \n",
    "    if b*b-4*a*c < 0:\n",
    "        raise QuadError('No real roots')\n",
    "    \n",
    "    x1 = (-b+math.sqrt(b*b-4*a*c))/(2*a)\n",
    "    x2 = (-b-math.sqrt(b*b-4*a*c))/(2*a)\n",
    "    \n",
    "    return (x1, x2)"
   ]
  },
  {
   "cell_type": "code",
   "execution_count": 35,
   "metadata": {
    "tags": []
   },
   "outputs": [
    {
     "ename": "QuadError",
     "evalue": "No real roots",
     "output_type": "error",
     "traceback": [
      "\u001b[1;31m---------------------------------------------------------------------------\u001b[0m",
      "\u001b[1;31mQuadError\u001b[0m                                 Traceback (most recent call last)",
      "Cell \u001b[1;32mIn[35], line 1\u001b[0m\n\u001b[1;32m----> 1\u001b[0m x1, x2 \u001b[38;5;241m=\u001b[39m \u001b[43mquad\u001b[49m\u001b[43m(\u001b[49m\u001b[38;5;241;43m3\u001b[39;49m\u001b[43m,\u001b[49m\u001b[43m \u001b[49m\u001b[38;5;241;43m4\u001b[39;49m\u001b[43m,\u001b[49m\u001b[43m \u001b[49m\u001b[38;5;241;43m4\u001b[39;49m\u001b[43m)\u001b[49m\n\u001b[0;32m      2\u001b[0m \u001b[38;5;28mprint\u001b[39m(\u001b[38;5;124m\"\u001b[39m\u001b[38;5;124mRoots are\u001b[39m\u001b[38;5;124m\"\u001b[39m, x1, x2)\n",
      "Cell \u001b[1;32mIn[34], line 9\u001b[0m, in \u001b[0;36mquad\u001b[1;34m(a, b, c)\u001b[0m\n\u001b[0;32m      6\u001b[0m     \u001b[38;5;28;01mraise\u001b[39;00m QuadError(\u001b[38;5;124m'\u001b[39m\u001b[38;5;124mNot quadratic\u001b[39m\u001b[38;5;124m'\u001b[39m)\n\u001b[0;32m      8\u001b[0m \u001b[38;5;28;01mif\u001b[39;00m b\u001b[38;5;241m*\u001b[39mb\u001b[38;5;241m-\u001b[39m\u001b[38;5;241m4\u001b[39m\u001b[38;5;241m*\u001b[39ma\u001b[38;5;241m*\u001b[39mc \u001b[38;5;241m<\u001b[39m \u001b[38;5;241m0\u001b[39m:\n\u001b[1;32m----> 9\u001b[0m     \u001b[38;5;28;01mraise\u001b[39;00m QuadError(\u001b[38;5;124m'\u001b[39m\u001b[38;5;124mNo real roots\u001b[39m\u001b[38;5;124m'\u001b[39m)\n\u001b[0;32m     11\u001b[0m x1 \u001b[38;5;241m=\u001b[39m (\u001b[38;5;241m-\u001b[39mb\u001b[38;5;241m+\u001b[39mmath\u001b[38;5;241m.\u001b[39msqrt(b\u001b[38;5;241m*\u001b[39mb\u001b[38;5;241m-\u001b[39m\u001b[38;5;241m4\u001b[39m\u001b[38;5;241m*\u001b[39ma\u001b[38;5;241m*\u001b[39mc))\u001b[38;5;241m/\u001b[39m(\u001b[38;5;241m2\u001b[39m\u001b[38;5;241m*\u001b[39ma)\n\u001b[0;32m     12\u001b[0m x2 \u001b[38;5;241m=\u001b[39m (\u001b[38;5;241m-\u001b[39mb\u001b[38;5;241m-\u001b[39mmath\u001b[38;5;241m.\u001b[39msqrt(b\u001b[38;5;241m*\u001b[39mb\u001b[38;5;241m-\u001b[39m\u001b[38;5;241m4\u001b[39m\u001b[38;5;241m*\u001b[39ma\u001b[38;5;241m*\u001b[39mc))\u001b[38;5;241m/\u001b[39m(\u001b[38;5;241m2\u001b[39m\u001b[38;5;241m*\u001b[39ma)\n",
      "\u001b[1;31mQuadError\u001b[0m: No real roots"
     ]
    }
   ],
   "source": [
    "x1, x2 = quad(3, 4, 4)\n",
    "print(\"Roots are\", x1, x2)"
   ]
  },
  {
   "cell_type": "code",
   "execution_count": 36,
   "metadata": {
    "tags": []
   },
   "outputs": [
    {
     "name": "stdout",
     "output_type": "stream",
     "text": [
      "Roots are 3.0 2.0\n"
     ]
    }
   ],
   "source": [
    "x1, x2 = quad(1, -5, 6)\n",
    "print(\"Roots are\", x1, x2)"
   ]
  },
  {
   "cell_type": "code",
   "execution_count": 37,
   "metadata": {
    "tags": []
   },
   "outputs": [
    {
     "ename": "QuadError",
     "evalue": "Not quadratic",
     "output_type": "error",
     "traceback": [
      "\u001b[1;31m---------------------------------------------------------------------------\u001b[0m",
      "\u001b[1;31mQuadError\u001b[0m                                 Traceback (most recent call last)",
      "Cell \u001b[1;32mIn[37], line 1\u001b[0m\n\u001b[1;32m----> 1\u001b[0m x1, x2 \u001b[38;5;241m=\u001b[39m \u001b[43mquad\u001b[49m\u001b[43m(\u001b[49m\u001b[38;5;241;43m0\u001b[39;49m\u001b[43m,\u001b[49m\u001b[43m \u001b[49m\u001b[38;5;241;43m-\u001b[39;49m\u001b[38;5;241;43m5\u001b[39;49m\u001b[43m,\u001b[49m\u001b[43m \u001b[49m\u001b[38;5;241;43m6\u001b[39;49m\u001b[43m)\u001b[49m\n\u001b[0;32m      2\u001b[0m \u001b[38;5;28mprint\u001b[39m(\u001b[38;5;124m\"\u001b[39m\u001b[38;5;124mRoots are\u001b[39m\u001b[38;5;124m\"\u001b[39m, x1, x2)\n",
      "Cell \u001b[1;32mIn[34], line 6\u001b[0m, in \u001b[0;36mquad\u001b[1;34m(a, b, c)\u001b[0m\n\u001b[0;32m      4\u001b[0m \u001b[38;5;28;01mdef\u001b[39;00m \u001b[38;5;21mquad\u001b[39m(a, b, c):\n\u001b[0;32m      5\u001b[0m     \u001b[38;5;28;01mif\u001b[39;00m a \u001b[38;5;241m==\u001b[39m \u001b[38;5;241m0\u001b[39m:\n\u001b[1;32m----> 6\u001b[0m         \u001b[38;5;28;01mraise\u001b[39;00m QuadError(\u001b[38;5;124m'\u001b[39m\u001b[38;5;124mNot quadratic\u001b[39m\u001b[38;5;124m'\u001b[39m)\n\u001b[0;32m      8\u001b[0m     \u001b[38;5;28;01mif\u001b[39;00m b\u001b[38;5;241m*\u001b[39mb\u001b[38;5;241m-\u001b[39m\u001b[38;5;241m4\u001b[39m\u001b[38;5;241m*\u001b[39ma\u001b[38;5;241m*\u001b[39mc \u001b[38;5;241m<\u001b[39m \u001b[38;5;241m0\u001b[39m:\n\u001b[0;32m      9\u001b[0m         \u001b[38;5;28;01mraise\u001b[39;00m QuadError(\u001b[38;5;124m'\u001b[39m\u001b[38;5;124mNo real roots\u001b[39m\u001b[38;5;124m'\u001b[39m)\n",
      "\u001b[1;31mQuadError\u001b[0m: Not quadratic"
     ]
    }
   ],
   "source": [
    "x1, x2 = quad(0, -5, 6)\n",
    "print(\"Roots are\", x1, x2)"
   ]
  },
  {
   "cell_type": "markdown",
   "metadata": {},
   "source": [
    "### The `assert` Statement"
   ]
  },
  {
   "cell_type": "markdown",
   "metadata": {},
   "source": [
    "The `assert` statement is similar to the `raise` statement, and it can be thought of as a *conditional* `raise` statement. \n",
    "\n",
    "The general syntax is:\n",
    "```\n",
    "assert test_condition, message(optional)\n",
    "```\n",
    "\n",
    "If the `test condition` evaluates to False, Python raises an `AssertionError` exception. If the `message` item is provided, it is used as the error message in the displayed exception. \n",
    "\n",
    "Conversely, if the `test condition` evaluates to True, the program will continue to the next line and will do nothing.\n",
    "\n",
    "Like all exceptions, the `AssertionError` exception will terminate the program if it’s not caught with a `try` statement. "
   ]
  },
  {
   "cell_type": "markdown",
   "metadata": {},
   "source": [
    "In the following example, `assert` is used to ensure that the values for the `Temperature` are non-negative."
   ]
  },
  {
   "cell_type": "code",
   "execution_count": 38,
   "metadata": {
    "tags": []
   },
   "outputs": [],
   "source": [
    "def KelvinToFahrenheit(Temperature):\n",
    "    assert Temperature >= 0, 'Colder than absolute zero!'\n",
    "    return ((Temperature-273)*1.8)+32"
   ]
  },
  {
   "cell_type": "code",
   "execution_count": 39,
   "metadata": {
    "tags": []
   },
   "outputs": [
    {
     "data": {
      "text/plain": [
       "32.0"
      ]
     },
     "execution_count": 39,
     "metadata": {},
     "output_type": "execute_result"
    }
   ],
   "source": [
    "KelvinToFahrenheit(273)"
   ]
  },
  {
   "cell_type": "code",
   "execution_count": 40,
   "metadata": {
    "tags": []
   },
   "outputs": [
    {
     "ename": "AssertionError",
     "evalue": "Colder than absolute zero!",
     "output_type": "error",
     "traceback": [
      "\u001b[1;31m---------------------------------------------------------------------------\u001b[0m",
      "\u001b[1;31mAssertionError\u001b[0m                            Traceback (most recent call last)",
      "Cell \u001b[1;32mIn[40], line 1\u001b[0m\n\u001b[1;32m----> 1\u001b[0m \u001b[43mKelvinToFahrenheit\u001b[49m\u001b[43m(\u001b[49m\u001b[38;5;241;43m-\u001b[39;49m\u001b[38;5;241;43m10\u001b[39;49m\u001b[43m)\u001b[49m\n",
      "Cell \u001b[1;32mIn[38], line 2\u001b[0m, in \u001b[0;36mKelvinToFahrenheit\u001b[1;34m(Temperature)\u001b[0m\n\u001b[0;32m      1\u001b[0m \u001b[38;5;28;01mdef\u001b[39;00m \u001b[38;5;21mKelvinToFahrenheit\u001b[39m(Temperature):\n\u001b[1;32m----> 2\u001b[0m     \u001b[38;5;28;01massert\u001b[39;00m Temperature \u001b[38;5;241m>\u001b[39m\u001b[38;5;241m=\u001b[39m \u001b[38;5;241m0\u001b[39m, \u001b[38;5;124m'\u001b[39m\u001b[38;5;124mColder than absolute zero!\u001b[39m\u001b[38;5;124m'\u001b[39m\n\u001b[0;32m      3\u001b[0m     \u001b[38;5;28;01mreturn\u001b[39;00m ((Temperature\u001b[38;5;241m-\u001b[39m\u001b[38;5;241m273\u001b[39m)\u001b[38;5;241m*\u001b[39m\u001b[38;5;241m1.8\u001b[39m)\u001b[38;5;241m+\u001b[39m\u001b[38;5;241m32\u001b[39m\n",
      "\u001b[1;31mAssertionError\u001b[0m: Colder than absolute zero!"
     ]
    }
   ],
   "source": [
    "KelvinToFahrenheit(-10)"
   ]
  },
  {
   "cell_type": "markdown",
   "metadata": {},
   "source": [
    "The equivalent `assert` code of the next cell using the `raise` statement is shown in the cell below."
   ]
  },
  {
   "cell_type": "code",
   "execution_count": 41,
   "metadata": {
    "tags": []
   },
   "outputs": [
    {
     "ename": "Exception",
     "evalue": "Sorry, no numbers below zero",
     "output_type": "error",
     "traceback": [
      "\u001b[1;31m---------------------------------------------------------------------------\u001b[0m",
      "\u001b[1;31mException\u001b[0m                                 Traceback (most recent call last)",
      "Cell \u001b[1;32mIn[41], line 4\u001b[0m\n\u001b[0;32m      1\u001b[0m x \u001b[38;5;241m=\u001b[39m \u001b[38;5;241m-\u001b[39m\u001b[38;5;241m1\u001b[39m\n\u001b[0;32m      3\u001b[0m \u001b[38;5;28;01mif\u001b[39;00m x \u001b[38;5;241m<\u001b[39m \u001b[38;5;241m0\u001b[39m:\n\u001b[1;32m----> 4\u001b[0m     \u001b[38;5;28;01mraise\u001b[39;00m \u001b[38;5;167;01mException\u001b[39;00m(\u001b[38;5;124m'\u001b[39m\u001b[38;5;124mSorry, no numbers below zero\u001b[39m\u001b[38;5;124m'\u001b[39m)\n",
      "\u001b[1;31mException\u001b[0m: Sorry, no numbers below zero"
     ]
    }
   ],
   "source": [
    "x = -1\n",
    "\n",
    "if x < 0:\n",
    "    raise Exception('Sorry, no numbers below zero')"
   ]
  },
  {
   "cell_type": "code",
   "execution_count": 42,
   "metadata": {
    "tags": []
   },
   "outputs": [
    {
     "ename": "AssertionError",
     "evalue": "Sorry, no numbers below zero",
     "output_type": "error",
     "traceback": [
      "\u001b[1;31m---------------------------------------------------------------------------\u001b[0m",
      "\u001b[1;31mAssertionError\u001b[0m                            Traceback (most recent call last)",
      "Cell \u001b[1;32mIn[42], line 3\u001b[0m\n\u001b[0;32m      1\u001b[0m x \u001b[38;5;241m=\u001b[39m \u001b[38;5;241m-\u001b[39m\u001b[38;5;241m3\u001b[39m\n\u001b[1;32m----> 3\u001b[0m \u001b[38;5;28;01massert\u001b[39;00m x \u001b[38;5;241m>\u001b[39m\u001b[38;5;241m=\u001b[39m \u001b[38;5;241m0\u001b[39m, \u001b[38;5;124m'\u001b[39m\u001b[38;5;124mSorry, no numbers below zero\u001b[39m\u001b[38;5;124m'\u001b[39m\n",
      "\u001b[1;31mAssertionError\u001b[0m: Sorry, no numbers below zero"
     ]
    }
   ],
   "source": [
    "x = -3\n",
    "\n",
    "assert x >= 0, 'Sorry, no numbers below zero'"
   ]
  },
  {
   "cell_type": "markdown",
   "metadata": {},
   "source": [
    "Here is one more simple example, where `assert` is used to ensure that no empty lists are passed to `marks`."
   ]
  },
  {
   "cell_type": "code",
   "execution_count": 43,
   "metadata": {
    "tags": []
   },
   "outputs": [],
   "source": [
    "def average(marks):\n",
    "    assert len(marks) != 0, 'List is empty'\n",
    "    return sum(marks)/len(marks)"
   ]
  },
  {
   "cell_type": "code",
   "execution_count": 44,
   "metadata": {
    "tags": []
   },
   "outputs": [
    {
     "name": "stdout",
     "output_type": "stream",
     "text": [
      "Average of marks is: 78.0\n"
     ]
    }
   ],
   "source": [
    "marks1 = [55, 88, 78, 90, 79]\n",
    "print('Average of marks is:', average(marks1))"
   ]
  },
  {
   "cell_type": "code",
   "execution_count": 45,
   "metadata": {
    "tags": []
   },
   "outputs": [
    {
     "ename": "AssertionError",
     "evalue": "List is empty",
     "output_type": "error",
     "traceback": [
      "\u001b[1;31m---------------------------------------------------------------------------\u001b[0m",
      "\u001b[1;31mAssertionError\u001b[0m                            Traceback (most recent call last)",
      "Cell \u001b[1;32mIn[45], line 2\u001b[0m\n\u001b[0;32m      1\u001b[0m marks2 \u001b[38;5;241m=\u001b[39m []\n\u001b[1;32m----> 2\u001b[0m \u001b[38;5;28mprint\u001b[39m(\u001b[38;5;124m'\u001b[39m\u001b[38;5;124mAverage of marks is:\u001b[39m\u001b[38;5;124m'\u001b[39m, \u001b[43maverage\u001b[49m\u001b[43m(\u001b[49m\u001b[43mmarks2\u001b[49m\u001b[43m)\u001b[49m)\n",
      "Cell \u001b[1;32mIn[43], line 2\u001b[0m, in \u001b[0;36maverage\u001b[1;34m(marks)\u001b[0m\n\u001b[0;32m      1\u001b[0m \u001b[38;5;28;01mdef\u001b[39;00m \u001b[38;5;21maverage\u001b[39m(marks):\n\u001b[1;32m----> 2\u001b[0m     \u001b[38;5;28;01massert\u001b[39;00m \u001b[38;5;28mlen\u001b[39m(marks) \u001b[38;5;241m!=\u001b[39m \u001b[38;5;241m0\u001b[39m, \u001b[38;5;124m'\u001b[39m\u001b[38;5;124mList is empty\u001b[39m\u001b[38;5;124m'\u001b[39m\n\u001b[0;32m      3\u001b[0m     \u001b[38;5;28;01mreturn\u001b[39;00m \u001b[38;5;28msum\u001b[39m(marks)\u001b[38;5;241m/\u001b[39m\u001b[38;5;28mlen\u001b[39m(marks)\n",
      "\u001b[1;31mAssertionError\u001b[0m: List is empty"
     ]
    }
   ],
   "source": [
    "marks2 = []\n",
    "print('Average of marks is:', average(marks2))"
   ]
  },
  {
   "cell_type": "markdown",
   "metadata": {},
   "source": [
    "`Assert` is typically used to verify program conditions during development (such as user-defined constraints), rather than for catching genuine programming errors. Because Python catches programming errors itself, there is usually no need to use `assert` to catch things like zero divides, out-of-bounds indexes, type mismatches, etc. In general, assertions are useful for checking  types, classes, or values of inputted variables, checking data structures such as duplicates in a list or contradictory variables, and checking that outputs of functions are reasonable and as expected. "
   ]
  },
  {
   "cell_type": "markdown",
   "metadata": {},
   "source": [
    "[BACK TO TOP](#top)"
   ]
  }
 ],
 "metadata": {
  "kernelspec": {
   "display_name": "Python 3 (ipykernel)",
   "language": "python",
   "name": "python3"
  },
  "language_info": {
   "codemirror_mode": {
    "name": "ipython",
    "version": 3
   },
   "file_extension": ".py",
   "mimetype": "text/x-python",
   "name": "python",
   "nbconvert_exporter": "python",
   "pygments_lexer": "ipython3",
   "version": "3.9.17"
  }
 },
 "nbformat": 4,
 "nbformat_minor": 4
}
