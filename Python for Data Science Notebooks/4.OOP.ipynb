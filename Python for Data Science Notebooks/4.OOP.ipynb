{
 "cells": [
  {
   "cell_type": "markdown",
   "metadata": {},
   "source": [
    "# 4 - Object-Oriented Programming"
   ]
  },
  {
   "cell_type": "markdown",
   "metadata": {},
   "source": [
    "- [1 Overview](#5.1-overview)\n",
    "- [2 Defining a Class](#5.2-defining-a-class)\n",
    "    - [2.1 Attributes](#5.2.1-attributes)\n",
    "    - [2.2 Methods](#5.2.2-methods)\n",
    "- [3 Inheritance](#5.3-inheritance)\n",
    "- [4 Special Methods](#5.4-special-methods)"
   ]
  },
  {
   "cell_type": "markdown",
   "metadata": {},
   "source": [
    "## 1 Overview <a id=\"5.1-overview\"/>"
   ]
  },
  {
   "cell_type": "markdown",
   "metadata": {},
   "source": [
    "**Object-oriented programming** (OOP) is a programming approach to structuring programs based on the concept of **objects**, which can contain *data* and *behavior* in the form of *attributes* and *methods*, respectively. For instance, an object could represent a person with attributes like name, age, and address, and methods such as walking, talking, and running. Or, it could represent an email with attributes like a recipient list, subject, and body, and methods like adding attachments and sending.\n",
    "\n",
    "In OOP, computer programs are designed by defining objects that interact with one another. In Python, the main tool for achieving OOP are Python **classes**. Classes are created using the `class` statement. Then, from classes we can construct object **instances**, which are specific objects created from a particular class. \n",
    "\n",
    "Besides OOP, other programming paradigms on which other languages are based include procedural, functional, and logic programming paradigms."
   ]
  },
  {
   "cell_type": "markdown",
   "metadata": {},
   "source": [
    "## 5.2 Defining a Class <a id=\"5.2-defining-a-class\"/>"
   ]
  },
  {
   "cell_type": "markdown",
   "metadata": {},
   "source": [
    "### The `class` Statement\n",
    "\n",
    "Let's define a class `Dog` by using the `class` statement and the name of the class. It is a convention in Python to begin class names with an uppercase letter, and module and function names with a lowercase letter. This is not a requirement, but if you follow this naming convention it will be appreciated by others who are to use your codes."
   ]
  },
  {
   "cell_type": "code",
   "execution_count": null,
   "metadata": {},
   "outputs": [],
   "source": [
    "# Create a new class called Dog\n",
    "class Dog:\n",
    "    \"\"\"Class object for a dog.\"\"\"\n",
    "    pass"
   ]
  },
  {
   "cell_type": "code",
   "execution_count": null,
   "metadata": {},
   "outputs": [],
   "source": [
    "# Create an instance object of the class Dog\n",
    "sam = Dog()\n",
    "\n",
    "print(type(sam))"
   ]
  },
  {
   "cell_type": "markdown",
   "metadata": {},
   "source": [
    "In the above code, inside the class definition we currently have just the `pass` command, which is only a placeholder for the code that we intend to write afterwards and means do nothing for now.\n",
    "\n",
    "Classes can be thought of as blueprints for creating objects. When we defined the class `Dog` using the line `class Dog:`, we didn't actually create an object. \n",
    "\n",
    "To create an object of the class `Dog`, we called the class by its name and a pair of parentheses (and optionally we can pass arguments in the parentheses as we did with functions in Python). That is, we **instantiated** the Dog class, and `sam` is now the reference to our new instance of the Dog class. Or, the action of creating instances (objects) from an existing class is known as **instantiation**.\n",
    "\n",
    "The name `sam` is referred to as a **class instance**, or **instance object**, or just an **instance**. We will use these terms interchangeably. \n",
    "\n",
    "We can create many instances of the class by calling the class with `Dog()`. For example, below we created two Dog instances `sam` and `frank`. Note that although they are both instances of the class Dog, they represent two distinct objects."
   ]
  },
  {
   "cell_type": "code",
   "execution_count": null,
   "metadata": {},
   "outputs": [],
   "source": [
    "sam = Dog()\n",
    "frank = Dog()\n",
    "\n",
    "sam == frank"
   ]
  },
  {
   "cell_type": "markdown",
   "metadata": {},
   "source": [
    "Note below that the two instances `sam` and `frank` have different memory addresses, shown after `at` in the cell outputs. The addresses for these two instances in your computer's memory will be different than those shown here."
   ]
  },
  {
   "cell_type": "code",
   "execution_count": null,
   "metadata": {},
   "outputs": [],
   "source": [
    "sam"
   ]
  },
  {
   "cell_type": "code",
   "execution_count": null,
   "metadata": {},
   "outputs": [],
   "source": [
    "frank"
   ]
  },
  {
   "cell_type": "markdown",
   "metadata": {},
   "source": [
    "In summary:\n",
    "\n",
    "> **Classes** serve as instance factories. They provide attributes and methods that are inherited by all the instances created from them.\n",
    "\n",
    "> **Instances** represent the concrete objects of a class. Their attributes consist of information that varies per specific object. Their methods describe behavior that is different for specific objects."
   ]
  },
  {
   "cell_type": "markdown",
   "metadata": {},
   "source": [
    "Class objects can have *attributes* and *methods*.\n",
    "\n",
    "> An **attribute** is an individual characteristic of an instance of the class. Or, attributes are variables that hold class data.\n",
    "\n",
    "> A **method** is an operation that is performed with the instance of the class. Or, methods are functions that provide behavior to class objects.\n"
   ]
  },
  {
   "cell_type": "markdown",
   "metadata": {},
   "source": [
    "### 5.2.1 Attributes <a id=\"5.2.1-attributes\"/>"
   ]
  },
  {
   "cell_type": "markdown",
   "metadata": {},
   "source": [
    "As we explained, attributes allow us to attach data to class objects. Python classes can have two types of attributes: instance attributes and class attributes."
   ]
  },
  {
   "cell_type": "markdown",
   "metadata": {},
   "source": [
    "#### Instance Attributes\n",
    "\n",
    "In Python, **instance attributes** are defined by using the `__init__()` constructor method. The term *init* is abbreviated from *initialize*, since it is used to initialize the attributes of class instances. \n",
    "\n",
    "In the parentheses of the `__init__()` method first `self` is listed, and afterwards the attributes are listed.\n",
    "\n",
    "The syntax for creating attributes is:\n",
    "    \n",
    "    def __init__(self, attribute1, attribute2, ...):\n",
    "         self.attribute1 = attribute1\n",
    "         self.attribute2 = attribute2\n",
    "\n",
    "For example:"
   ]
  },
  {
   "cell_type": "code",
   "execution_count": null,
   "metadata": {},
   "outputs": [],
   "source": [
    "class Dog:\n",
    "    def __init__(self, breed, name):\n",
    "        self.breed = breed\n",
    "        self.name = name"
   ]
  },
  {
   "cell_type": "code",
   "execution_count": null,
   "metadata": {},
   "outputs": [],
   "source": [
    "# Create an instance from the 'Dog' class by passing breed and name, assign it to the name 'sam'\n",
    "sam = Dog(breed='Labrador', name='Sam')\n",
    "# Create another instance from the 'Dog' class by passing breed and name, assign it to the name 'frank'\n",
    "frank = Dog(breed='Huskie', name='Frank')\n",
    "# Create another instance from the 'Dog' class by passing breed and name, assign it to the name 'my_dog'\n",
    "my_dog = Dog(breed='Terrier', name='Scooby')"
   ]
  },
  {
   "cell_type": "markdown",
   "metadata": {},
   "source": [
    "The `__init__()` method is present in almost every class, and it is used to initialize newly created class instances by passing attributes. In the above example, the attributes *breed* and *name* are the arguments to the special method `__init__()`. Each attribute in a class definition begins with a reference to the class instance, which by convention is named `self`, such as in `self.breed = breed`.\n",
    "\n",
    "When we created the instances of the class Dog, `__init__()` initialized these objects by passing the assigned values for *breed* and *name* to the instances *sam*, *frank*, and *my_dog*. In the `__init__()` method, the word `self` is the newly created instance. Therefore, for the instance *sam*, the line `self.breed = breed` is equivalent to stating `sam.breed = 'Labrador'`. Similarly, `self.name = name` is equivalent to stating `sam.name = 'Sam'`. Similarly, for the instance *frank*, `self.breed = breed` is equivalent to stating `frank.breed = 'Huskie'` and `self` refers to the instance *frank*. \n",
    "\n",
    "Notice again that `sam`, `frank`, and `my_dog` are three separate instances of the `Dog` class, and they have their own attributes, i.e., different breed and name."
   ]
  },
  {
   "cell_type": "markdown",
   "metadata": {},
   "source": [
    "##### Accessing Instance Attributes\n",
    "\n",
    "The syntax for accessing an attribute of a class instance uses the **dot operator**.\n",
    "\n",
    "         instance.attribute\n",
    "         \n",
    "We can therefore access the attributes `breed` and `name` as in the next examples."
   ]
  },
  {
   "cell_type": "code",
   "execution_count": null,
   "metadata": {},
   "outputs": [],
   "source": [
    "# Access the 'breed' attribute of the class instance 'sam'\n",
    "sam.breed"
   ]
  },
  {
   "cell_type": "code",
   "execution_count": null,
   "metadata": {},
   "outputs": [],
   "source": [
    "# Access the 'breed' attribute of the class instance 'frank'\n",
    "frank.breed"
   ]
  },
  {
   "cell_type": "code",
   "execution_count": null,
   "metadata": {},
   "outputs": [],
   "source": [
    "# Access the 'name' attribute of the class instance 'my_dog'\n",
    "my_dog.name"
   ]
  },
  {
   "cell_type": "markdown",
   "metadata": {},
   "source": [
    "Note that we cannot access the instance attributes through the class, as in `class.attribute`, since they are specific to concrete instances of the class. If we try to do that, we will get an Attribute Error."
   ]
  },
  {
   "cell_type": "code",
   "execution_count": null,
   "metadata": {},
   "outputs": [],
   "source": [
    "Dog.name"
   ]
  },
  {
   "cell_type": "markdown",
   "metadata": {},
   "source": [
    "In general, it is possible to create new classes without the `__init__()` construction method. This is shown below, where we used a `def` statement to introduce a method called `enterinfo` to the class `Dog`."
   ]
  },
  {
   "cell_type": "code",
   "execution_count": null,
   "metadata": {},
   "outputs": [],
   "source": [
    "class Dog:\n",
    "    def enterinfo(self, breed): \n",
    "        self.breed = breed"
   ]
  },
  {
   "cell_type": "code",
   "execution_count": null,
   "metadata": {},
   "outputs": [],
   "source": [
    "sam = Dog()\n",
    "sam.enterinfo(breed='Labrador')"
   ]
  },
  {
   "cell_type": "code",
   "execution_count": null,
   "metadata": {},
   "outputs": [],
   "source": [
    "sam.breed"
   ]
  },
  {
   "cell_type": "markdown",
   "metadata": {},
   "source": [
    "However, in this case, we need to first create a new class instance `sam` as shown above, and afterward assign the `breed` attribute using the `enterinfo()` method. \n",
    "\n",
    "On the other hand, by using the `__init__()` method, we can initialize the instance attributes at the same time when the new instance is created. Therefore, using `__init__()` is preferred and always recommended. Without `__init__()`, an empty instance is created, and we need to initialize it afterwards."
   ]
  },
  {
   "cell_type": "markdown",
   "metadata": {},
   "source": [
    "In addition, we can dynamically attach new instance attributes to existing class objects that we have already created. In the next cell, the new attribute `age` is attached to the instance `sam`. However, it is preferred to define instance attributes inside the class definition, since it makes the code more organized and makes it easier for others to understand or debug our code."
   ]
  },
  {
   "cell_type": "code",
   "execution_count": null,
   "metadata": {},
   "outputs": [],
   "source": [
    "sam.age = 3\n",
    "print(sam.age)"
   ]
  },
  {
   "cell_type": "markdown",
   "metadata": {},
   "source": [
    "##### Modifying Instance Attributes"
   ]
  },
  {
   "cell_type": "markdown",
   "metadata": {},
   "source": [
    "We can modify the attributes of an instance by using the dot `.` notation and an assignment statement, as in:\n",
    "\n",
    "    instance.attribute = new_value"
   ]
  },
  {
   "cell_type": "code",
   "execution_count": null,
   "metadata": {},
   "outputs": [],
   "source": [
    "frank.name"
   ]
  },
  {
   "cell_type": "code",
   "execution_count": null,
   "metadata": {},
   "outputs": [],
   "source": [
    "# Modify attribute\n",
    "frank.name = 'Franki'\n",
    "frank.name"
   ]
  },
  {
   "cell_type": "markdown",
   "metadata": {},
   "source": [
    "To delete any instance attribute, use the `del` keyword."
   ]
  },
  {
   "cell_type": "code",
   "execution_count": null,
   "metadata": {},
   "outputs": [],
   "source": [
    "del frank.name"
   ]
  },
  {
   "cell_type": "code",
   "execution_count": null,
   "metadata": {},
   "outputs": [],
   "source": [
    "# Error, the name attribute does not exist for 'frank'\n",
    "print(frank.name, frank.breed)"
   ]
  },
  {
   "cell_type": "markdown",
   "metadata": {},
   "source": [
    "The above code does not delete the attribute `name` for the other class instances."
   ]
  },
  {
   "cell_type": "code",
   "execution_count": null,
   "metadata": {},
   "outputs": [],
   "source": [
    "# The name attribute still exist for 'my_dog'\n",
    "my_dog.name"
   ]
  },
  {
   "cell_type": "markdown",
   "metadata": {},
   "source": [
    "#### Class Attributes\n",
    "\n",
    "**Class attributes** in Python are also referred to as *class object attributes*. The class attributes are the same for all instances of the class. \n",
    "\n",
    "For example, we could create the attribute *species* for the Dog class, as shown in the next cell. Regardless of their breed, name, or other attributes, all dog instances will have the attribute `species = 'mammal'`. The instances of the class Dog in the next cell also have the *instance attributes* `breed` and `name` which can be unique for each class instance. \n",
    "\n",
    "We apply this logic in the following manner."
   ]
  },
  {
   "cell_type": "code",
   "execution_count": null,
   "metadata": {},
   "outputs": [],
   "source": [
    "class Dog:\n",
    "    \n",
    "    # Class attribute\n",
    "    species = 'mammal'\n",
    "    \n",
    "    # Instance attributes\n",
    "    def __init__(self, breed, name):\n",
    "        self.breed = breed\n",
    "        self.name = name"
   ]
  },
  {
   "cell_type": "code",
   "execution_count": null,
   "metadata": {},
   "outputs": [],
   "source": [
    "# Create an instance from the 'Dog' class by passing breed and name\n",
    "sam = Dog('Labrador','Sam')"
   ]
  },
  {
   "cell_type": "markdown",
   "metadata": {},
   "source": [
    "Accessing class attributes is the same as accessing instance attributes. "
   ]
  },
  {
   "cell_type": "code",
   "execution_count": null,
   "metadata": {},
   "outputs": [],
   "source": [
    "# Access class attributes\n",
    "sam.species"
   ]
  },
  {
   "cell_type": "code",
   "execution_count": null,
   "metadata": {},
   "outputs": [],
   "source": [
    "# Access instance attributes\n",
    "sam.name"
   ]
  },
  {
   "cell_type": "markdown",
   "metadata": {},
   "source": [
    "Note that the class attribute `species` is defined directly in the body of the `class` definition, outside of any methods in the class. Also by convention, the class attributes are placed before the `__init__()` method."
   ]
  },
  {
   "cell_type": "markdown",
   "metadata": {},
   "source": [
    "Also, we can access class attributes through the class via `class.attribute`, as in the next example. "
   ]
  },
  {
   "cell_type": "code",
   "execution_count": null,
   "metadata": {},
   "outputs": [],
   "source": [
    "Dog.species"
   ]
  },
  {
   "cell_type": "markdown",
   "metadata": {},
   "source": [
    "##### Modifying Class Attributes"
   ]
  },
  {
   "cell_type": "markdown",
   "metadata": {},
   "source": [
    "We cannot modify class attributes via assignment to class instances. In the next example, we used an assignment statement `frank.species = 'bird'` to modify the attribute `species` of the class instance `frank` to `bird`. "
   ]
  },
  {
   "cell_type": "code",
   "execution_count": null,
   "metadata": {},
   "outputs": [],
   "source": [
    "frank = Dog(breed='Huskie', name='Frank')"
   ]
  },
  {
   "cell_type": "code",
   "execution_count": null,
   "metadata": {},
   "outputs": [],
   "source": [
    "frank.species"
   ]
  },
  {
   "cell_type": "code",
   "execution_count": null,
   "metadata": {},
   "outputs": [],
   "source": [
    "# Reassing the attribute 'species' to 'bird'\n",
    "frank.species = 'bird'"
   ]
  },
  {
   "cell_type": "markdown",
   "metadata": {},
   "source": [
    "This didn't change the class attribute for the newly created class instance `my_dog`, as shown below. Instead, the reassignment `frank.species = 'bird'` created a new instance attribute `species` for the class instance `frank` that has the same name as the class attribute `species`. "
   ]
  },
  {
   "cell_type": "code",
   "execution_count": null,
   "metadata": {},
   "outputs": [],
   "source": [
    "my_dog = Dog(breed='Terrier', name='Scooby')"
   ]
  },
  {
   "cell_type": "code",
   "execution_count": null,
   "metadata": {},
   "outputs": [],
   "source": [
    "# The class attribute of the new instance is still 'mammal'\n",
    "my_dog.species"
   ]
  },
  {
   "cell_type": "markdown",
   "metadata": {},
   "source": [
    "We can change the class atribute via assignment when using the class name, as shown in the next example."
   ]
  },
  {
   "cell_type": "code",
   "execution_count": null,
   "metadata": {},
   "outputs": [],
   "source": [
    "Dog.species = 'animal'"
   ]
  },
  {
   "cell_type": "code",
   "execution_count": null,
   "metadata": {},
   "outputs": [],
   "source": [
    "sam = Dog('Labrador','Sam')"
   ]
  },
  {
   "cell_type": "code",
   "execution_count": null,
   "metadata": {},
   "outputs": [],
   "source": [
    "sam.species"
   ]
  },
  {
   "cell_type": "markdown",
   "metadata": {},
   "source": [
    "In summary:\n",
    "\n",
    "- Class attributes are defined in the body of the `class` definition directly. Class attributes are common to the class. Their data is the same for all instances of the class.\n",
    "- Instance attributes are defined inside the `__init__()` method within the `class` definition. Instance attributes belong to a concrete instance of the class. Their data is specific to that concrete instance of the class."
   ]
  },
  {
   "cell_type": "markdown",
   "metadata": {},
   "source": [
    "##### The `__dict__` Attribute\n",
    "\n",
    "Both classes and instances in Python have a special attribute called `__dict__`. This attribute is a dictionary, with the keys being the attribute names and the values are the attached attribute values. For a class instance `__dict__` holds the instance attributes, and for a class `__dict__` holds class attributes and methods."
   ]
  },
  {
   "cell_type": "code",
   "execution_count": null,
   "metadata": {},
   "outputs": [],
   "source": [
    "my_dog.__dict__"
   ]
  },
  {
   "cell_type": "code",
   "execution_count": null,
   "metadata": {},
   "outputs": [],
   "source": [
    "frank.__dict__"
   ]
  },
  {
   "cell_type": "code",
   "execution_count": null,
   "metadata": {},
   "outputs": [],
   "source": [
    "Dog.__dict__"
   ]
  },
  {
   "cell_type": "markdown",
   "metadata": {},
   "source": [
    "Python also allows to change the value of existing instance attributes through `__dict__`, or even to add new attributes through `__dict__`."
   ]
  },
  {
   "cell_type": "markdown",
   "metadata": {},
   "source": [
    "### 5.2.2 Methods <a id=\"5.2.2-methods\"/>\n",
    "\n",
    "**Methods** are functions defined inside the body of a class. By defining it inside the class, we establish a relationship between the method and the class. Because methods are functions, they can take arguments and return values. \n",
    "\n",
    "In a Python class, we can define three different types of methods:\n",
    "\n",
    "- Instance methods, which take the current instance `self` as their first argument.\n",
    "- Class methods, which take the current class `cls` as their first argument.\n",
    "- Static methods, which take neither the class nor the instance.\n",
    "\n",
    "This section describes instance methods, as the most common type of methods in classes. Class methods and static methods are described in the Appendix section. "
   ]
  },
  {
   "cell_type": "markdown",
   "metadata": {},
   "source": [
    "#### Instance Methods\n",
    "\n",
    "**Instance methods** are functions defined inside the body of a class, designed to perform operations on the class objects. \n",
    "\n",
    "Methods have access to all attributes for an instance of the class. They can access and modify the attributes through the argument `self`. \n",
    "\n",
    "We can basically think of methods as regular functions, with one major difference that the first argument of the method is always the instance object referenced through `self`. \n",
    "\n",
    "Technically, even the word `self` is a convention, and any other term can be used instead of `self`. However, if you use another word, that would be very unusual for other coders using your code.\n",
    "\n",
    "Let's see an example of creating a class for a `Circle` shown below. The objects of this class have three methods: `getArea` which calculates the area, `getCircumference` which calculates the circumference, and `SetRadius` which allows to change the attribute `radius`. "
   ]
  },
  {
   "cell_type": "code",
   "execution_count": null,
   "metadata": {},
   "outputs": [],
   "source": [
    "class Circle:\n",
    "    pi = 3.14\n",
    "\n",
    "    # Circle gets instantiated with a radius (default is 1)\n",
    "    def __init__(self, radius=1):\n",
    "        self.radius = radius \n",
    "\n",
    "    # Method for getting Area\n",
    "    def getArea(self):\n",
    "        return self.radius * self.radius * self.pi\n",
    "\n",
    "    # Method for getting Circumference\n",
    "    def getCircumference(self):\n",
    "        return self.radius * self.pi * 2\n",
    "\n",
    "    # Method for resetting Radius\n",
    "    def setRadius(self, new_radius):\n",
    "        self.radius = new_radius"
   ]
  },
  {
   "cell_type": "markdown",
   "metadata": {},
   "source": [
    "Notice that within the methods `getArea` and `getCircumference` we used the notation `self.radius` to reference the instance attribute `radius` which we defined with the `__init__` method inside the body of the class. \n",
    "\n",
    "Similarly, we defined the class attribute `pi = 3.14` inside the body of the class, and since we can access it as an attribute of new instances, we used the notation `self.pi` to reference it within the methods `getArea` and `getCircumference`. As we explained in the previous section, we can also access class attributes through the class name, that is, we could have used the notation `Circle.pi` within the methods `getArea` and `getCircumference` to get access to the class attribute `pi`.\n",
    "\n",
    "The two methods `getArea` and `getCircumference` don't take any other arguments except `self`. The method `setRadius` takes another argument `new_radius`, and it allows to change the value of the current attribute `radius`."
   ]
  },
  {
   "cell_type": "markdown",
   "metadata": {},
   "source": [
    "The methods are accessed by using the dot notation.\n",
    "\n",
    "    instance.method()\n",
    "    "
   ]
  },
  {
   "cell_type": "code",
   "execution_count": null,
   "metadata": {},
   "outputs": [],
   "source": [
    "# Let's call it\n",
    "c = Circle()\n",
    "\n",
    "print('Radius is: ', c.radius)\n",
    "print('Area is: ', c.getArea())\n",
    "print('Circumference is: ', c.getCircumference())"
   ]
  },
  {
   "cell_type": "markdown",
   "metadata": {},
   "source": [
    "Now let's change the radius with the method `setRadius` and see how that affects the `Circle` object:"
   ]
  },
  {
   "cell_type": "code",
   "execution_count": null,
   "metadata": {},
   "outputs": [],
   "source": [
    "c.setRadius(3)\n",
    "\n",
    "print('Radius is: ', c.radius)\n",
    "print('Area is: ', c.getArea())\n",
    "print('Circumference is: ', c.getCircumference())"
   ]
  },
  {
   "cell_type": "markdown",
   "metadata": {},
   "source": [
    "Notice again in the above cell that when we call `getArea` and `getCircumference` methods, we don't need to provide a value for the `self` argument. Python takes care of that step, and it automatically passes the class instance to `self`.\n",
    "\n",
    "However, if we wish, we can manually provide the desired class instance when calling these methods. To do this though, we need to call the method on the class, as shown next."
   ]
  },
  {
   "cell_type": "code",
   "execution_count": null,
   "metadata": {},
   "outputs": [],
   "source": [
    "Circle.getCircumference(c)"
   ]
  },
  {
   "cell_type": "markdown",
   "metadata": {},
   "source": [
    "If we try to call the methods on the instance `c`, that will raise an exception."
   ]
  },
  {
   "cell_type": "code",
   "execution_count": null,
   "metadata": {},
   "outputs": [],
   "source": [
    "c.getCircumference(c)"
   ]
  },
  {
   "cell_type": "markdown",
   "metadata": {},
   "source": [
    "Shown next is one more example of a class `Customer` with attributes `name` and `balance`, and methods `withdraw` and `deposit`. "
   ]
  },
  {
   "cell_type": "code",
   "execution_count": null,
   "metadata": {},
   "outputs": [],
   "source": [
    "class Customer():\n",
    "    \"\"\"A customer of ABC Bank with a checking account. Customers have the\n",
    "    following properties:\n",
    "\n",
    "    Attributes:\n",
    "        name: A string representing the customer's name.\n",
    "        balance: A float tracking the current balance of the customer's account.\n",
    "    \"\"\"\n",
    "\n",
    "    def __init__(self, name, balance=0.0):\n",
    "        \"\"\"Return a Customer object whose name is *name* and starting\n",
    "        balance is *balance*.\"\"\"\n",
    "        self.name = name\n",
    "        self.balance = balance\n",
    "\n",
    "    def withdraw(self, amount):\n",
    "        \"\"\"Return the balance remaining after withdrawing *amount*\n",
    "        dollars.\"\"\"\n",
    "        if amount > self.balance:\n",
    "            raise RuntimeError('Amount greater than available balance.')\n",
    "        self.balance -= amount\n",
    "        return self.balance\n",
    "\n",
    "    def deposit(self, amount):\n",
    "        \"\"\"Return the balance remaining after depositing *amount*\n",
    "        dollars.\"\"\"\n",
    "        self.balance += amount\n",
    "        return self.balance"
   ]
  },
  {
   "cell_type": "code",
   "execution_count": null,
   "metadata": {},
   "outputs": [],
   "source": [
    "# Create a new instance\n",
    "bob = Customer('Bob Smith', 1000)"
   ]
  },
  {
   "cell_type": "code",
   "execution_count": null,
   "metadata": {},
   "outputs": [],
   "source": [
    "bob.withdraw(100)"
   ]
  },
  {
   "cell_type": "code",
   "execution_count": null,
   "metadata": {},
   "outputs": [],
   "source": [
    "bob.deposit(400)"
   ]
  },
  {
   "cell_type": "code",
   "execution_count": null,
   "metadata": {},
   "outputs": [],
   "source": [
    "# Based on the exception in the 'withdraw' method\n",
    "bob.withdraw(1600)"
   ]
  },
  {
   "cell_type": "markdown",
   "metadata": {},
   "source": [
    "### Polymorphism in Classes\n",
    "\n",
    "We learned about polymorphism in functions, and we saw that when functions take in different arguments, the actions depend on the type of objects. \n",
    "Similarly, in Python **polymorphism** exists with classes, where different classes can share the same method name, and these methods can perform different actions based on the object they act upon. \n",
    "\n",
    "Let's see an example."
   ]
  },
  {
   "cell_type": "code",
   "execution_count": null,
   "metadata": {},
   "outputs": [],
   "source": [
    "class Dog:\n",
    "    def __init__(self, name):\n",
    "        self.name = name\n",
    "\n",
    "    def speak(self):\n",
    "        return self.name+' says Woof!'\n",
    "    \n",
    "class Cat:\n",
    "    def __init__(self, name):\n",
    "        self.name = name\n",
    "\n",
    "    def speak(self):\n",
    "        return self.name+' says Meow!' \n",
    "    \n",
    "niko = Dog('Niko')\n",
    "felix = Cat('Felix')\n",
    "\n",
    "print(niko.speak())\n",
    "print(felix.speak())"
   ]
  },
  {
   "cell_type": "markdown",
   "metadata": {},
   "source": [
    "Here we have a `Dog` class and a `Cat` class, and each has a `speak()` method. When called, each object's `speak()` method returns a result that is unique to the class of the instance. This demonstrated polymorphism, because we passed in different object types to the `speak()` method, and we obtained object-specific results from the same method."
   ]
  },
  {
   "cell_type": "markdown",
   "metadata": {},
   "source": [
    "### Naming Conventions in Classes"
   ]
  },
  {
   "cell_type": "markdown",
   "metadata": {},
   "source": [
    "The recommended naming convention for Python classes is to use capitalized names, and for longer names each word is capitalized and connected without underscores. For example, examples of classes in the machine learning library `Keras` include `Conv2DTranspose`, `CheckpointCallback`, `BatchNormalization`, etc.\n",
    "\n",
    "Another naming convention is to include a leading underscore in the names of attributes and methods (e.g., `_radius`, `_calculate_area()` in the class `Circle`) to communicate them as **non-public** attributes and methods. All regular names (such as `radius` and `calculate_area()`) are **public** attributes and methods. \n",
    "\n",
    "Public members are intended to be part of the official interface or API of the classes, while non-public members are not intended to be part of the API. This naming convention indicates that the non-public members should not be used outside their defining class. However, the naming convention does not prevent direct access. Non-public members exist only to support the internal implementation of a given class and may be removed at any time, so we should not rely on them. "
   ]
  },
  {
   "cell_type": "markdown",
   "metadata": {},
   "source": [
    "## 5.3 Inheritance  <a id=\"5.3-inheritance\"/>\n",
    "\n",
    "For our programs to be truly object-oriented, it is required that they use inheritance hierarchy. **Inheritance** is the process of creating a new class by reusing the attributes and methods from an existing class. This way, we can edit only what we need to modify in the new class, and this will override the behavior of the old class.\n",
    "\n",
    "The newly formed inheriting class is known as a **subclass** or **child class** or **derived class**, and the class it inherits from is known as a **superclass** or **parent class** or **base class**.\n",
    "\n",
    "Important benefits of inheritance are code reuse and reduction of complexity of a program, because the child classes override or extend the functionality of parent classes.\n",
    "\n",
    "Let's see an example by incorporating inheritance. In this example, we have four classes: `Animal`, `Dog`, `Cat`, and `Fish`. The `Animal` is the parent class (superclass), and `Dog`, `Cat`, and `Fish` are the child classes (subclasses).\n",
    "\n",
    "Note that when defining the child classes `Dog`, `Cat`, and `Fish`, the parent class `Animal` is listed in parentheses in the class header, i.e., `class Dog(Animal)`."
   ]
  },
  {
   "cell_type": "code",
   "execution_count": null,
   "metadata": {},
   "outputs": [],
   "source": [
    "class Animal:\n",
    "    def __init__(self):\n",
    "        print(\"Animal created\")\n",
    "\n",
    "    def whoAmI(self):\n",
    "        print(\"Animal\")\n",
    "\n",
    "    def eat(self):\n",
    "        print(\"Eating\")\n",
    "\n",
    "        \n",
    "class Dog(Animal): # The class Dog inherits the functionalities of the class Animal\n",
    "    def __init__(self):\n",
    "        Animal.__init__(self)   # This can also be replaced with: super().__init__()\n",
    "        print(\"Dog created\")\n",
    "\n",
    "    def whoAmI(self): \n",
    "        print(\"Dog\")\n",
    "\n",
    "    def bark(self):\n",
    "        print(\"Woof!\")\n",
    "        \n",
    "\n",
    "class Cat(Animal): # The class Cat inherits the functionalities of the class Animal\n",
    "    def __init__(self):\n",
    "        # The line Animal.__init__(self) is missing in the Cat class\n",
    "        print(\"Cat created\")\n",
    "\n",
    "    def whoAmI(self): \n",
    "        print(\"Cat\")\n",
    "\n",
    "        \n",
    "class Fish(Animal): # The class Fish inherits the functionalities of the class Animal\n",
    "    # attributes are not specified\n",
    "    \n",
    "    def whoAmI(self): \n",
    "        print(\"Fish\")"
   ]
  },
  {
   "cell_type": "markdown",
   "metadata": {},
   "source": [
    "Let's create instances of the child classes."
   ]
  },
  {
   "cell_type": "code",
   "execution_count": null,
   "metadata": {},
   "outputs": [],
   "source": [
    "d = Dog()"
   ]
  },
  {
   "cell_type": "code",
   "execution_count": null,
   "metadata": {},
   "outputs": [],
   "source": [
    "# Note the difference in the attributes in comparison to Dog\n",
    "c = Cat()"
   ]
  },
  {
   "cell_type": "code",
   "execution_count": null,
   "metadata": {},
   "outputs": [],
   "source": [
    "# Note the difference in the attributes in comparison to Cat\n",
    "f = Fish()"
   ]
  },
  {
   "cell_type": "markdown",
   "metadata": {},
   "source": [
    "Parent classes typically provide generic and common functionality that we can reuse throughout multiple child classes. In this sense, the `Animal` class provides properties that are common for most other animals. \n",
    "\n",
    "Child classes **inherit attributes and methods** from the parent class. For instance, notice that if call the `eat()` method with the class instances of `Dog` and `Fish`, the word `Eating` is printed. Although the method `eat()` is not defined in the classes `Dog` and `Fish`, the instances inherit the method from the parent class `Animal`."
   ]
  },
  {
   "cell_type": "code",
   "execution_count": null,
   "metadata": {},
   "outputs": [],
   "source": [
    "d.eat()"
   ]
  },
  {
   "cell_type": "code",
   "execution_count": null,
   "metadata": {},
   "outputs": [],
   "source": [
    "f.eat()"
   ]
  },
  {
   "cell_type": "markdown",
   "metadata": {},
   "source": [
    "The child classes not only inherit attributes and methods from the parent class, but they can also **modify attributes and methods** existing in the parent class. This is shown by the method `whoAmI()`. When this method is called, Python searches for the name first in the child class, and if it is not found, afterwards it searches in the parent class. In this case, `whoAmI()` method is found in the child classes `Dog`, `Cat`, and `Fish`."
   ]
  },
  {
   "cell_type": "code",
   "execution_count": null,
   "metadata": {},
   "outputs": [],
   "source": [
    "d.whoAmI()"
   ]
  },
  {
   "cell_type": "code",
   "execution_count": null,
   "metadata": {},
   "outputs": [],
   "source": [
    "c.whoAmI()"
   ]
  },
  {
   "cell_type": "markdown",
   "metadata": {},
   "source": [
    "Finally, the child class `Dog` **extends the functionality of the parent class** by defining a new `bark()` method that does not exist in the `Animal` class."
   ]
  },
  {
   "cell_type": "code",
   "execution_count": null,
   "metadata": {},
   "outputs": [],
   "source": [
    "d.bark()"
   ]
  },
  {
   "cell_type": "markdown",
   "metadata": {},
   "source": [
    "Similar to inheritance in nature, only child classes inherit from the parent class, and the parent class does not inherit attributes and methods from the child classes.\n",
    "\n",
    "One more example follows, where `Person` is a parent class, and `Manager` is a child class of `Person` and inherits attributes and methods."
   ]
  },
  {
   "cell_type": "code",
   "execution_count": null,
   "metadata": {},
   "outputs": [],
   "source": [
    "class Person:\n",
    "    def __init__(self, name, job=None, pay=0):\n",
    "        self.name = name\n",
    "        self.job = job\n",
    "        self.pay = pay\n",
    "    \n",
    "    def giveRaise(self, percent):\n",
    "        self.pay = int(self.pay * (1 + percent)) \n",
    "        \n",
    "class Manager(Person):\n",
    "    def giveRaise(self, percent, bonus=.10):\n",
    "        self.pay = int(self.pay * (1 + percent + bonus))       "
   ]
  },
  {
   "cell_type": "code",
   "execution_count": null,
   "metadata": {},
   "outputs": [],
   "source": [
    "# Create a new instance of Person\n",
    "bob = Person('Bob Smith', pay=50000)\n",
    "bob.giveRaise(percent=0.1)  # 50000 * (1+ 0.1) = 50000 * 1.1 = 55000\n",
    "bob.pay"
   ]
  },
  {
   "cell_type": "code",
   "execution_count": null,
   "metadata": {},
   "outputs": [],
   "source": [
    "# Create a new instance of Manager\n",
    "tom = Manager('Tom Jones', 'mgr', 50000)\n",
    "print(tom.name, tom.job, tom.pay)"
   ]
  },
  {
   "cell_type": "code",
   "execution_count": null,
   "metadata": {},
   "outputs": [],
   "source": [
    "# On a salary of 50,000, giveRaise for Person applied 10% raise, and giveRaise for Manager applied 10% bonus\n",
    "tom.giveRaise(percent=0.1, bonus=0.1)   # 50000 * (1+ 0.1 + 0.1) = 50000 * 1.2 = 60000\n",
    "tom.pay"
   ]
  },
  {
   "cell_type": "markdown",
   "metadata": {},
   "source": [
    "Another way to define the method `giveRaise` for the `Manager` child class is by using the syntax below `superclass.method(self, arguments)`, as in `Person.giveRaise(self, percent + bonus)` shown below. Note that this is different from the syntax above `self.method(arguments)` as in `self.pay = int(self.pay * (1 + percent + bonus)) `. However, this coding approach using `self.method(arguments)` does not rely on the superclass `Person`, and if `Person` is changed, the code will not work as expected. Therefore, it is preferred to use the syntax `superclass.method(self, arguments)`."
   ]
  },
  {
   "cell_type": "code",
   "execution_count": null,
   "metadata": {},
   "outputs": [],
   "source": [
    "class Manager(Person):\n",
    "    def giveRaise(self, percent, bonus=.10):\n",
    "        Person.giveRaise(self, percent + bonus) "
   ]
  },
  {
   "cell_type": "code",
   "execution_count": null,
   "metadata": {},
   "outputs": [],
   "source": [
    "tom = Manager('Tom Jones', 'mgr', 50000)\n",
    "# On a salary of 50,000, giveRaise for Person applied 10% raise, and giveRaise for Manager applied 10% bonus\n",
    "tom.giveRaise(percent=0.1, bonus=0.1)   # Person.giveRaise(.10+0.10) = Person.giveRaise(0.20)   # 50000 * 1.2 = 60000\n",
    "tom.pay"
   ]
  },
  {
   "cell_type": "markdown",
   "metadata": {},
   "source": [
    "### The super() function"
   ]
  },
  {
   "cell_type": "markdown",
   "metadata": {},
   "source": [
    "The `super()` function in Python returns a temporary object of the parent class that then allows to call methods from the parent class in child classes. This allows to define new methods in the child class with minimal code changes.\n",
    "\n",
    "For instance, in the example below, a parent class `Rectangle` is defined, and a child class `Cube` is created that inherits from `Rectangle`. To calculate the volume of a Cube, the child class `Cube` inherited the method `area()` from the class `Rectangle` via `super().area()`. Since the method `volume()` for a cube relies on calculating the area of a single face, rather than reimplementing the area calculation, we use the function `super()` to extend the area calculation. The function `super()` returns an object of the superclass, and allows to call the method `volume()` directly through `super().area()`."
   ]
  },
  {
   "cell_type": "code",
   "execution_count": null,
   "metadata": {},
   "outputs": [],
   "source": [
    "class Rectangle:\n",
    "    def __init__(self, length, width):\n",
    "        self.length = length\n",
    "        self.width = width\n",
    "\n",
    "    def area(self):\n",
    "        return self.length * self.width\n",
    "\n",
    "    def perimeter(self):\n",
    "        return 2 * self.length + 2 * self.width\n",
    "\n",
    "class Cube(Rectangle):\n",
    "    def __init__(self, length, width, height):\n",
    "        self.length = length\n",
    "        self.width = width\n",
    "        self.height = height\n",
    "    \n",
    "    def volume(self):\n",
    "        face_area = super().area()\n",
    "        return face_area * self.height    "
   ]
  },
  {
   "cell_type": "code",
   "execution_count": null,
   "metadata": {},
   "outputs": [],
   "source": [
    "cube1 = Cube(4, 4, 2)\n",
    "cube1.volume()"
   ]
  },
  {
   "cell_type": "markdown",
   "metadata": {},
   "source": [
    "One more example is provided next, with a parent class `Person` and child class `Student`. Note that in the definition of the `Student` class, we called the `__init__()` function from the superclass to initialize the attributes `student_name`, `student_age`, and `student_residence`. The call to the parent class `super().__init__(student_name, student_age, student_residence)` is equivalent to calling the function as `Person.__init__(self, student_name, student_age, student_residence)`."
   ]
  },
  {
   "cell_type": "code",
   "execution_count": null,
   "metadata": {},
   "outputs": [],
   "source": [
    "class Person:\n",
    "\n",
    "    def __init__(self, name, age, residence):\n",
    "        self.name = name\n",
    "        self.age = age\n",
    "        self.residence = residence\n",
    "\n",
    "    def show_name(self):\n",
    "        print(self.name)\n",
    "\n",
    "    def show_age(self):\n",
    "        print(self.age)\n",
    "\n",
    "class Student(Person):\n",
    "\n",
    "    def __init__(self, student_name, student_age, student_residence, student_id):\n",
    "        super().__init__(student_name, student_age, student_residence)\n",
    "        self.studentId = student_id\n",
    "\n",
    "    def show_id(self):\n",
    "        print(self.studentId)  "
   ]
  },
  {
   "cell_type": "code",
   "execution_count": null,
   "metadata": {},
   "outputs": [],
   "source": [
    "# Create an object of the child class\n",
    "student1 = Student(\"Max\", 22, \"Moscow\", \"100022\")\n",
    "student1.show_name()"
   ]
  },
  {
   "cell_type": "code",
   "execution_count": null,
   "metadata": {},
   "outputs": [],
   "source": [
    "student1.show_id()"
   ]
  },
  {
   "cell_type": "markdown",
   "metadata": {},
   "source": [
    "### Class Hierarchies"
   ]
  },
  {
   "cell_type": "markdown",
   "metadata": {},
   "source": [
    "Using inheritance, we can build class hierarchies, also known as inheritance trees. A **class hierarchy** is a set of closely related classes that are connected through inheritance and arranged in a tree-like structure. The class or classes at the top of the hierarchy are the parent classes, while the classes below are derived classes or child classes. \n",
    "\n",
    "Therefore, classes at the top of the hierarchy are generic classes with common functionality, while classes down the hierarchy are more specialized and they inherit attributes and methods from their parent classes and also have their own attributes and methods.\n",
    "\n",
    "Let's revisit again the example with the animals, where the following tree hierarchy will be created."
   ]
  },
  {
   "cell_type": "markdown",
   "metadata": {},
   "source": [
    "<img src=\"images/tree_hierarchy.png\" width=\"700\">"
   ]
  },
  {
   "cell_type": "markdown",
   "metadata": {},
   "source": [
    "In this hierarchy, a parent class `Animal` is at the top. Below this class, we have subclasses like `Mammal`, `Bird`, and `Fish`, which inherit the attributes and methods from the class `Animal`. At the bottom level, we can have classes like `Dog`, `Cat`, `Eagle`, `Penguin`, `Salmon`, and `Shark`. E.g., `Dog` and `Cat` are both mammals and animals, and they inherit from both of these superclasses and have their own attributes and methods. "
   ]
  },
  {
   "cell_type": "code",
   "execution_count": null,
   "metadata": {},
   "outputs": [],
   "source": [
    "class Animal:\n",
    "    def __init__(self, name, sex, habitat):\n",
    "        self.name = name\n",
    "        self.sex = sex\n",
    "        self.habitat = habitat\n",
    "\n",
    "class Mammal(Animal):\n",
    "    unique_feature = \"Mammary glands\"\n",
    "\n",
    "class Bird(Animal):\n",
    "    unique_feature = \"Feathers\"\n",
    "\n",
    "class Fish(Animal):\n",
    "    unique_feature = \"Gills\"\n",
    "\n",
    "class Dog(Mammal):\n",
    "    def walk(self):\n",
    "        print(\"The dog is walking\")\n",
    "\n",
    "class Cat(Mammal):\n",
    "    def walk(self):\n",
    "        print(\"The cat is walking\")\n",
    "\n",
    "class Eagle(Bird):\n",
    "    def fly(self):\n",
    "        print(\"The eagle is flying\")\n",
    "\n",
    "class Penguin(Bird):\n",
    "    def swim(self):\n",
    "        print(\"The penguin is swimming\")\n",
    "\n",
    "class Salmon(Fish):\n",
    "    def swim(self):\n",
    "        print(\"The salmon is swimming\")\n",
    "\n",
    "class Shark(Fish):\n",
    "    def swim(self):\n",
    "        print(\"The shark is swimming\")"
   ]
  },
  {
   "cell_type": "code",
   "execution_count": null,
   "metadata": {},
   "outputs": [],
   "source": [
    "d = Dog('Fido', 'M', 'Europe')"
   ]
  },
  {
   "cell_type": "code",
   "execution_count": null,
   "metadata": {},
   "outputs": [],
   "source": [
    "d.unique_feature"
   ]
  },
  {
   "cell_type": "code",
   "execution_count": null,
   "metadata": {},
   "outputs": [],
   "source": [
    "d.walk()"
   ]
  },
  {
   "cell_type": "markdown",
   "metadata": {},
   "source": [
    "## Special Methods <a id=\"5.4-special-methods\"/>"
   ]
  },
  {
   "cell_type": "markdown",
   "metadata": {},
   "source": [
    "Python has many other built-in methods which can be used with user-defined classes. These methods are also known as **special methods** or **magic methods**. Similar to the `__init__()` method, all special methods have leading and trailing double underscores (also called *dunders*).\n",
    "\n",
    "For instance, the list of special methods for mathematical operators in Python involve the following.\n",
    "```python\n",
    "a + b       a.__add__(b)\n",
    "a - b       a.__sub__(b)\n",
    "a * b       a.__mul__(b)\n",
    "a / b       a.__truediv__(b)\n",
    "a // b      a.__floordiv__(b)\n",
    "a % b       a.__mod__(b)\n",
    "a << b      a.__lshift__(b)\n",
    "a >> b      a.__rshift__(b)\n",
    "a & b       a.__and__(b)\n",
    "a | b       a.__or__(b)\n",
    "a ^ b       a.__xor__(b)\n",
    "a ** b      a.__pow__(b)\n",
    "-a          a.__neg__()\n",
    "~a          a.__invert__()\n",
    "abs(a)      a.__abs__()\n",
    "```\n",
    "Special methods for item access in sequences involve the following.\n",
    "\n",
    "```python\n",
    "len(x)      x.__len__()\n",
    "x[a]        x.__getitem__(a)\n",
    "x[a] = v    x.__setitem__(a,v)\n",
    "del x[a]    x.__delitem__(a)\n",
    "```\n",
    "\n",
    "Other type of special methods are used for access to object attributes. These include:\n",
    "\n",
    "```python\n",
    "x.a         x.__getattr__(a)\n",
    "x.a = v     x.__setattr__(a,v)\n",
    "del x.a     x.__delattr__(a)\n",
    "```\n",
    "\n",
    "And there are other types of special methods that are not listed above."
   ]
  },
  {
   "cell_type": "markdown",
   "metadata": {},
   "source": [
    "The use of special methods with user-defined classes is also called **operator overloading** in OOP, because these methods allow the new instances of our user-defined classes to exhibit the behaviors of the applied special methods. For example, the operator `+` is implemented using the special method `__add__()` and it can perform addition of numbers, concatenation of strings, etc. Operator overloading in Python is an example of *polymorphism* in Python. Note that the term polymorphism is more general, and it describes actions performed upon different objects in a different way based on the object, as we saw in the example from the previous section. \n",
    "\n",
    "By implementing special methods into our user-defined classes, our classes can behave like built-in Python types. "
   ]
  },
  {
   "cell_type": "markdown",
   "metadata": {},
   "source": [
    "### Sequence Length with `__len__()`"
   ]
  },
  {
   "cell_type": "markdown",
   "metadata": {},
   "source": [
    "We can implement the special method `__len__()` in our custom classes, which will allow us to use `len()` with the instances of the class. \n",
    "\n",
    "In the example below, we used the method `__len__()` in the class `Employee`, which returns the length of the attribute `self.pay`."
   ]
  },
  {
   "cell_type": "code",
   "execution_count": 28,
   "metadata": {},
   "outputs": [],
   "source": [
    "class Employee: \n",
    "    \n",
    "    def __init__(self, name, pay): \n",
    "        self.name = name\n",
    "        self.pay = pay\n",
    "        \n",
    "    def __len__(self):\n",
    "        return len(self.pay)\n",
    "    \n",
    "    def __add__(self,b):\n",
    "        return self.pay + b.pay\n",
    "    "
   ]
  },
  {
   "cell_type": "code",
   "execution_count": 29,
   "metadata": {},
   "outputs": [
    {
     "name": "stdout",
     "output_type": "stream",
     "text": [
      "Bob Smith [50000, 55000, 53000, 60000]\n"
     ]
    }
   ],
   "source": [
    "bob = Employee(name='Bob Smith', pay=[50000, 55000, 53000, 60000])\n",
    "print(bob.name, bob.pay)"
   ]
  },
  {
   "cell_type": "code",
   "execution_count": 25,
   "metadata": {},
   "outputs": [
    {
     "data": {
      "text/plain": [
       "4"
      ]
     },
     "execution_count": 25,
     "metadata": {},
     "output_type": "execute_result"
    }
   ],
   "source": [
    "# Length of the bob.pay object\n",
    "len(bob)"
   ]
  },
  {
   "cell_type": "code",
   "execution_count": 30,
   "metadata": {},
   "outputs": [
    {
     "name": "stdout",
     "output_type": "stream",
     "text": [
      "Sue Jones [50000, 60000]\n"
     ]
    }
   ],
   "source": [
    "sue = Employee(name='Sue Jones', pay=[50000, 60000])\n",
    "print(sue.name, sue.pay)"
   ]
  },
  {
   "cell_type": "code",
   "execution_count": 31,
   "metadata": {},
   "outputs": [
    {
     "data": {
      "text/plain": [
       "[50000, 60000, 50000, 55000, 53000, 60000]"
      ]
     },
     "execution_count": 31,
     "metadata": {},
     "output_type": "execute_result"
    }
   ],
   "source": [
    "sue+bob"
   ]
  },
  {
   "cell_type": "markdown",
   "metadata": {},
   "source": [
    "[BACK TO TOP](#top)"
   ]
  }
 ],
 "metadata": {
  "kernelspec": {
   "display_name": "Python 3 (ipykernel)",
   "language": "python",
   "name": "python3"
  },
  "language_info": {
   "codemirror_mode": {
    "name": "ipython",
    "version": 3
   },
   "file_extension": ".py",
   "mimetype": "text/x-python",
   "name": "python",
   "nbconvert_exporter": "python",
   "pygments_lexer": "ipython3",
   "version": "3.9.17"
  }
 },
 "nbformat": 4,
 "nbformat_minor": 4
}
